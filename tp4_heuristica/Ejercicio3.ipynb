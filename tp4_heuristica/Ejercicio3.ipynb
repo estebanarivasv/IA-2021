{
 "cells": [
  {
   "cell_type": "markdown",
   "metadata": {},
   "source": [
    "# Grilla de colores\n",
    "\n",
    "Se tiene una grilla de cuadrados de 9×9, cada uno comienza pintado aleatoriamente de rojo o azul. \n",
    "\n",
    "<img src=\"https://gitlab.com/andrea.navarro/inteligencia-artificial/-/raw/master/heuristica/grilla.jpg\" width=\"200\">\n",
    "\n",
    "Se quiere pintar algunos cuadrados de manera que, si se divide la grilla total en sub-grillas de 3x3, cada una de estas sub-grillas contenga cuadrados del mismo color siendo este diferente que el de las subgrillas adyacentes.\n",
    "\n",
    "<img src=\"https://gitlab.com/andrea.navarro/inteligencia-artificial/-/raw/master/heuristica/grilla-solucion-1.jpg\" width=\"200\">\n",
    "<img src=\"https://gitlab.com/andrea.navarro/inteligencia-artificial/-/raw/master/heuristica/grilla-solucion-2.jpg\" width=\"200\" >\n",
    "\n",
    "Resolver el problema de manera que no sea necesario pintar un cuadrado más de una vez y se pinte la cantidad mínima de cuadrados.\n",
    "\n",
    "\n"
   ]
  },
  {
   "cell_type": "markdown",
   "metadata": {},
   "source": [
    "Primero planteamos las dos posibles soluciones."
   ]
  },
  {
   "cell_type": "code",
   "execution_count": 1,
   "metadata": {},
   "outputs": [],
   "source": [
    "import numpy as np\n",
    "solucion1 = np.array([[0,0,0,1,1,1,0,0,0],[0,0,0,1,1,1,0,0,0],[0,0,0,1,1,1,0,0,0],\n",
    "                      [1,1,1,0,0,0,1,1,1],[1,1,1,0,0,0,1,1,1],[1,1,1,0,0,0,1,1,1],\n",
    "                      [0,0,0,1,1,1,0,0,0],[0,0,0,1,1,1,0,0,0],[0,0,0,1,1,1,0,0,0]\n",
    "                     ])\n",
    "solucion2 = np.array([[1,1,1,0,0,0,1,1,1],[1,1,1,0,0,0,1,1,1],[1,1,1,0,0,0,1,1,1],\n",
    "                      [0,0,0,1,1,1,0,0,0],[0,0,0,1,1,1,0,0,0],[0,0,0,1,1,1,0,0,0],\n",
    "                      [1,1,1,0,0,0,1,1,1],[1,1,1,0,0,0,1,1,1],[1,1,1,0,0,0,1,1,1]\n",
    "                     ])"
   ]
  },
  {
   "cell_type": "markdown",
   "metadata": {},
   "source": [
    "Definimos una grilla de cuadrados de colores donde el color azul se representa con un 1 y el color rojo se representa con 0."
   ]
  },
  {
   "cell_type": "code",
   "execution_count": 2,
   "metadata": {},
   "outputs": [
    {
     "name": "stdout",
     "output_type": "stream",
     "text": [
      "[[0 0 0 0 1 1 1 0 0]\n",
      " [1 1 0 0 0 1 1 0 1]\n",
      " [1 1 0 1 1 1 1 1 0]\n",
      " [1 1 1 1 1 0 0 1 1]\n",
      " [0 0 1 0 0 0 0 1 0]\n",
      " [0 0 0 1 1 1 0 0 0]\n",
      " [0 0 1 0 1 0 0 0 0]\n",
      " [1 1 1 1 0 0 1 0 0]\n",
      " [1 0 1 0 1 0 1 0 0]]\n"
     ]
    }
   ],
   "source": [
    "grilla = np.random.randint(low=0,high=2,size=(9,9))\n",
    "print(grilla)"
   ]
  },
  {
   "cell_type": "markdown",
   "metadata": {},
   "source": [
    "Definimos dos contadores para asimilar a cuál de los modelos planteados anteriores se asemeja la grilla generada."
   ]
  },
  {
   "cell_type": "code",
   "execution_count": 3,
   "metadata": {},
   "outputs": [
    {
     "name": "stdout",
     "output_type": "stream",
     "text": [
      "Cantidad de cuadrados diferentes con la solución 1: 42\n",
      "Cantidad de cuadrados diferentes con la solución 2: 39\n"
     ]
    }
   ],
   "source": [
    "c_s1 = 0\n",
    "c_s2 = 0\n",
    "\n",
    "for x in range(0, grilla.shape[0]):\n",
    "    for y in range(0, grilla.shape[1]):\n",
    "        if grilla[x][y] != solucion1[x][y]:\n",
    "            c_s1 += 1\n",
    "        if grilla[x][y] != solucion2[x][y]:\n",
    "            c_s2 += 1\n",
    "\n",
    "print(f\"Cantidad de cuadrados diferentes con la solución 1: {c_s1}\")\n",
    "print(f\"Cantidad de cuadrados diferentes con la solución 2: {c_s2}\")"
   ]
  },
  {
   "cell_type": "markdown",
   "metadata": {},
   "source": [
    "Elegimos la mejor solucion para pintar los cuadrados y que se asemejen al objetivo original. Nuestra heurística es realizar la menor cantidad de pintadas."
   ]
  },
  {
   "cell_type": "code",
   "execution_count": 6,
   "metadata": {},
   "outputs": [
    {
     "name": "stdout",
     "output_type": "stream",
     "text": [
      "Se elige la solución 2\n"
     ]
    }
   ],
   "source": [
    "if c_s1 < c_s2:\n",
    "    print(\"Se elige la solución 1\")\n",
    "    solucion = solucion1\n",
    "else:\n",
    "    solucion = solucion2\n",
    "    print(\"Se elige la solución 2\")"
   ]
  },
  {
   "cell_type": "raw",
   "metadata": {},
   "source": [
    "Obtenemos el resultado final, \"pintando\" las celdas, de manera tal que se asigne el valor del mismo array al array a pintar; e incrementamos el contador de celdas pintadas."
   ]
  },
  {
   "cell_type": "code",
   "execution_count": 7,
   "metadata": {},
   "outputs": [
    {
     "name": "stdout",
     "output_type": "stream",
     "text": [
      "Cantidad de cuadros pintados:  0\n",
      "[[1 1 1 0 0 0 1 1 1]\n",
      " [1 1 1 0 0 0 1 1 1]\n",
      " [1 1 1 0 0 0 1 1 1]\n",
      " [0 0 0 1 1 1 0 0 0]\n",
      " [0 0 0 1 1 1 0 0 0]\n",
      " [0 0 0 1 1 1 0 0 0]\n",
      " [1 1 1 0 0 0 1 1 1]\n",
      " [1 1 1 0 0 0 1 1 1]\n",
      " [1 1 1 0 0 0 1 1 1]]\n"
     ]
    }
   ],
   "source": [
    "pintadas = 0\n",
    "for x in range(0, grilla.shape[0]):\n",
    "    for y in range(0, grilla.shape[1]):\n",
    "        if grilla[x][y] != solucion[x][y]:\n",
    "             grilla[x][y] = solucion[x][y]\n",
    "             pintadas += 1\n",
    "print(\"Cantidad de cuadros pintados: \", pintadas)\n",
    "print(grilla)"
   ]
  }
 ],
 "metadata": {
  "kernelspec": {
   "display_name": "Python 3 (ipykernel)",
   "language": "python",
   "name": "python3"
  },
  "language_info": {
   "codemirror_mode": {
    "name": "ipython",
    "version": 3
   },
   "file_extension": ".py",
   "mimetype": "text/x-python",
   "name": "python",
   "nbconvert_exporter": "python",
   "pygments_lexer": "ipython3",
   "version": "3.7.11"
  }
 },
 "nbformat": 4,
 "nbformat_minor": 4
}
