{
 "cells": [
  {
   "cell_type": "markdown",
   "metadata": {},
   "source": [
    "# El problema de la mochila\n",
    "\n",
    "Se tiene una mochila y un conjunto de artículos con diferente peso y valor. Se intenta determinar que artículos se pueden colocar adentro de la mochila de manera que no se sobrepase el límite de peso de la mochila maximizando el valor total. \n",
    "\n",
    "## Primera parte\n",
    "\n",
    "Resolver el problema utilizando un método de fuerza bruta para los siguientes artículos y un límite de 15kg:\n",
    "\n",
    "<table style=\"font-size:16px\">\n",
    "    <tr>\n",
    "        <th>Item</th><td>Valor</td><td>Peso</td>\n",
    "    </tr>\n",
    "    <tr>\n",
    "        <th>A</th><td>4</td><td>12</td>\n",
    "    </tr>\n",
    "    <tr>\n",
    "        <th>B</th><td>2</td><td>2</td>\n",
    "    </tr>\n",
    "    <tr>\n",
    "        <th>C</th><td>10</td><td>4</td>\n",
    "    </tr>\n",
    "    <tr>\n",
    "        <th>D</th><td>1</td><td>1</td>\n",
    "    </tr>\n",
    "</table>\n",
    "\n",
    "Mostrar el resultado para todos los casos"
   ]
  },
  {
   "cell_type": "markdown",
   "metadata": {},
   "source": [
    "### Resolución"
   ]
  },
  {
   "cell_type": "code",
   "execution_count": 1,
   "metadata": {},
   "outputs": [],
   "source": [
    "import itertools\n",
    "\n",
    "item_list = [\"A\", \"B\", \"C\", \"D\"]\n",
    "valor_peso = [(4,12),(2,2),(10,4),(1,1)]     # Lista de tuplas valor-peso\n",
    "\n",
    "# Devuelve el peso por cada letra del item que le pasemos por parametro\n",
    "def get_peso_por_letra(letra):\n",
    "    index = item_list.index(letra)\n",
    "    (valor, peso) = valor_peso[index]\n",
    "    return peso\n",
    "\n",
    "# Devuelve el valor por cada letra del item que le pasemos por parametro\n",
    "def get_valor_por_letra(letra):\n",
    "    index = item_list.index(letra)\n",
    "    (valor, peso) = valor_peso[index]\n",
    "    return valor\n",
    "\n",
    "# Devuelve la combinacion en letras a la que pertenece una combinacion de pesos o de valores\n",
    "def get_combinacion_item(lista, combinacion_sin_ordenar, combinacion_items):\n",
    "    index = combinacion_sin_ordenar.index(lista)\n",
    "    return combinacion_items[index]"
   ]
  },
  {
   "cell_type": "markdown",
   "metadata": {},
   "source": [
    "Primero buscamos todas las posibles combinaciones que podemos encontrar"
   ]
  },
  {
   "cell_type": "code",
   "execution_count": 4,
   "metadata": {},
   "outputs": [
    {
     "name": "stdout",
     "output_type": "stream",
     "text": [
      "[('A', 'B', 'C', 'D'), ('A', 'B', 'C'), ('A', 'B', 'D'), ('A', 'C', 'D'), ('B', 'C', 'D'), ('A', 'B'), ('A', 'C'), ('A', 'D'), ('B', 'C'), ('B', 'D'), ('C', 'D'), ('A',), ('B',), ('C',), ('D',)]\n"
     ]
    }
   ],
   "source": [
    "num_combinaciones = 4\n",
    "combinaciones = []\n",
    "\n",
    "while True:\n",
    "    if num_combinaciones == 0:\n",
    "        break\n",
    "    \n",
    "    a = itertools.combinations(item_list, num_combinaciones)\n",
    "    for i in a:\n",
    "\n",
    "        combinaciones.append(i)\n",
    "    \n",
    "    num_combinaciones = num_combinaciones - 1\n",
    "    \n",
    "print(combinaciones)"
   ]
  },
  {
   "cell_type": "markdown",
   "metadata": {},
   "source": [
    "Armamos todas las combinaciones posibles de pesos segun la letra del índice"
   ]
  },
  {
   "cell_type": "code",
   "execution_count": 5,
   "metadata": {},
   "outputs": [
    {
     "name": "stdout",
     "output_type": "stream",
     "text": [
      "[[12, 2, 4, 1], [12, 2, 4], [12, 2, 1], [12, 4, 1], [2, 4, 1], [12, 2], [12, 4], [12, 1], [2, 4], [2, 1], [4, 1], [12], [2], [4], [1]]\n"
     ]
    }
   ],
   "source": [
    "combinaciones_pesos = []\n",
    "\n",
    "for combinacion in combinaciones:\n",
    "    nueva_combinacion = []\n",
    "    for item in combinacion:\n",
    "        nueva_combinacion.append(get_peso_por_letra(item))\n",
    "    combinaciones_pesos.append(nueva_combinacion)\n",
    "\n",
    "print(combinaciones_pesos)"
   ]
  },
  {
   "cell_type": "markdown",
   "metadata": {},
   "source": [
    "Obtenemos una lista ordenada con todas las combinaciones de pesos ordenadas por la suma de cada una. De esa lista extraemos las sumatorias que sean menores o iguales al peso límite de 15 Kg."
   ]
  },
  {
   "cell_type": "code",
   "execution_count": 6,
   "metadata": {},
   "outputs": [],
   "source": [
    "comb_pesos_ordenada = sorted(combinaciones_pesos, key=sum, reverse=True)\n",
    "\n",
    "condicion_peso = []\n",
    "for combinacion in comb_pesos_ordenada:\n",
    "    if sum(combinacion) <= 15:\n",
    "        condicion_peso.append(combinacion)"
   ]
  },
  {
   "cell_type": "markdown",
   "metadata": {},
   "source": [
    "Ahora, definimos las letras de cada item por medio de su peso para saber qué combinaciones de las iniciales cumplen con el límite de 15 Kg."
   ]
  },
  {
   "cell_type": "code",
   "execution_count": 10,
   "metadata": {},
   "outputs": [
    {
     "name": "stdout",
     "output_type": "stream",
     "text": [
      "Pesos menores o iguales a 15: \n",
      "\n",
      "('A', 'B', 'D')\n",
      "[12, 2, 1] :  15\n",
      "('A', 'B')\n",
      "[12, 2] :  14\n",
      "('A', 'D')\n",
      "[12, 1] :  13\n",
      "('A',)\n",
      "[12] :  12\n",
      "('B', 'C', 'D')\n",
      "[2, 4, 1] :  7\n",
      "('B', 'C')\n",
      "[2, 4] :  6\n",
      "('C', 'D')\n",
      "[4, 1] :  5\n",
      "('C',)\n",
      "[4] :  4\n",
      "('B', 'D')\n",
      "[2, 1] :  3\n",
      "('B',)\n",
      "[2] :  2\n",
      "('D',)\n",
      "[1] :  1\n"
     ]
    }
   ],
   "source": [
    "letras_combinaciones_filtradas = []\n",
    "        \n",
    "print(\"Pesos menores o iguales a 15: \\n\")\n",
    "for combinacion_peso in condicion_peso:\n",
    "    combinacion = get_combinacion_item(combinacion_peso, combinaciones_pesos, combinaciones)\n",
    "    \n",
    "    letras_combinaciones_filtradas.append(combinacion)\n",
    "    print(combinacion)\n",
    "    print(combinacion_peso, \": \", sum(combinacion_peso))"
   ]
  },
  {
   "cell_type": "markdown",
   "metadata": {},
   "source": [
    "De las combinaciones menores a 15 Kg., planteamos las combinaciones por valor para definir cuál es el valor máximo"
   ]
  },
  {
   "cell_type": "code",
   "execution_count": 11,
   "metadata": {},
   "outputs": [
    {
     "name": "stdout",
     "output_type": "stream",
     "text": [
      "[[4, 2, 1], [4, 2], [4, 1], [4], [2, 10, 1], [2, 10], [10, 1], [10], [2, 1], [2], [1]]\n"
     ]
    }
   ],
   "source": [
    "combinaciones_valores = []\n",
    "\n",
    "for combinacion in letras_combinaciones_filtradas:\n",
    "    nueva_combinacion = []\n",
    "    for item in combinacion:\n",
    "        nueva_combinacion.append(get_valor_por_letra(item))\n",
    "    combinaciones_valores.append(nueva_combinacion)\n",
    "    \n",
    "print(combinaciones_valores)\n"
   ]
  },
  {
   "cell_type": "code",
   "execution_count": null,
   "metadata": {},
   "outputs": [],
   "source": [
    "Ordenamos la lista obtenida por el valor máximo qu"
   ]
  },
  {
   "cell_type": "code",
   "execution_count": 14,
   "metadata": {},
   "outputs": [
    {
     "name": "stdout",
     "output_type": "stream",
     "text": [
      "13\n",
      "\n",
      "La combinacion optima que es menor a 15 kg y tiene mayor valor es:  ('B', 'C', 'D')\n"
     ]
    }
   ],
   "source": [
    "comb_valores_ordenada = sorted(combinaciones_valores, key=sum, reverse=True)\n",
    "\n",
    "valor_optimo = comb_valores_ordenada[0]\n",
    "\n",
    "print(f\"\\nLa combinacion optima que es menor a 15 kg y tiene valor máximo de {sum(valor_optimo)} es: {get_combinacion_item(valor_optimo,combinaciones_valores, combinaciones)}\")"
   ]
  },
  {
   "cell_type": "markdown",
   "metadata": {},
   "source": [
    "# Segunda parte\n",
    "\n",
    "Resolver el problema agregando heurística para los siguientes artículos y un límite de 30kg:\n",
    "\n",
    "<table style=\"font-size:16px\">\n",
    "    <tr>\n",
    "        <th>Item</th><td>Valor</td><td>Peso</td>\n",
    "    </tr>\n",
    "    <tr>\n",
    "        <th>A</th><td>4</td><td>12</td>\n",
    "    </tr>\n",
    "    <tr>\n",
    "        <th>B</th><td>2</td><td>2</td>\n",
    "    </tr>\n",
    "    <tr>\n",
    "        <th>C</th><td>10</td><td>4</td>\n",
    "    </tr>\n",
    "    <tr>\n",
    "        <th>D</th><td>1</td><td>1</td>\n",
    "    </tr>\n",
    "    <tr>\n",
    "        <th>E</th><td>5</td><td>15</td>\n",
    "    </tr>\n",
    "    <tr>\n",
    "        <th>F</th><td>3</td><td>2</td>\n",
    "    </tr>\n",
    "    <tr>\n",
    "        <th>G</th><td>14</td><td>7</td>\n",
    "    </tr>\n",
    "    <tr>\n",
    "        <th>H</th><td>4</td><td>10</td>\n",
    "    </tr>\n",
    "</table>\n",
    "\n",
    "Responder:\n",
    "\n",
    "- ¿Qué heurística se utilizó? \n"
   ]
  }
 ],
 "metadata": {
  "kernelspec": {
   "display_name": "Python 3 (ipykernel)",
   "language": "python",
   "name": "python3"
  },
  "language_info": {
   "codemirror_mode": {
    "name": "ipython",
    "version": 3
   },
   "file_extension": ".py",
   "mimetype": "text/x-python",
   "name": "python",
   "nbconvert_exporter": "python",
   "pygments_lexer": "ipython3",
   "version": "3.8.11"
  }
 },
 "nbformat": 4,
 "nbformat_minor": 4
}
