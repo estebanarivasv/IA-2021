{
 "cells": [
  {
   "cell_type": "markdown",
   "metadata": {},
   "source": [
    "# Árbol genealógico\n",
    "\n",
    "Permitir a un usuario cargar los nombres de miembros de su familia permitiendo hasta 3 generaciones. Luego permitir seleccionar un miembro y una relación y devolver los familiares correspondiente. Ej \"Pedro,hijo\" debería imprimir los hijos de Pedro. Permitir relaciónes: padre, hijo, tio, hermano, abuelo, nieto."
   ]
  },
  {
   "cell_type": "code",
   "execution_count": null,
   "metadata": {},
   "outputs": [],
   "source": [
    "\n",
    "from anytree import Node, RenderTree, AsciiStyle\n",
    "\n",
    "\n",
    "familia = {}\n",
    "\n",
    "def ingresar_pariente():\n",
    "    nombre = input('Ingrese nombre: ')\n",
    "    rol_familiar = input('Ingrese rol (hijo:h / padre:p): ')\n",
    "    if rol_familiar == 'h':\n",
    "        nombreP = raw_input('Ingrese nombre del Padre: ')\n",
    "        if nombreP in familia:\n",
    "            familia[nombre] = Node(nombre, parent=familia[nombreP])\n",
    "        else:\n",
    "            familia[nombreP] = Node(nombreP)\n",
    "            familia[nombre] = Node(nombre, parent=familia[nombreP])\n",
    "        familia[nombreP] = Node(nombreP)\n",
    "        \n",
    "        familia[nombre] = Node(name=nombre, parent=familia[nombreP])\n",
    "        print(familia)\n",
    "    elif rol_familiar == 'p':\n",
    "        nombreH = raw_input('Ingrese nombre del hijo: ')\n",
    "        if nombreH in familia:\n",
    "            familia[nombre] = Node(nombre, children=[familia[nombreH]])\n",
    "        else:\n",
    "            familia[nombreH] = Node(nombreH)\n",
    "            familia[nombre] = Node(nombre, children=[familia[nombreH]])\n",
    "            \n",
    "        \n",
    "\n",
    "\n",
    "def return_is_rool():\n",
    "    is_parent_root = []\n",
    "\n",
    "    for value in familia:\n",
    "        if familia[value].is_root:\n",
    "            is_parent_root.append(familia[value])\n",
    "            \n",
    "    return is_parent_root[0]\n",
    "    \n",
    "\n",
    "        \n",
    "def renderizar_familia():            \n",
    "    root = return_is_rool()  \n",
    "    print(RenderTree(root))\n",
    "        \n",
    "\n",
    "\n",
    "ingresar_pariente()\n"
   ]
  },
  {
   "cell_type": "code",
   "execution_count": 7,
   "metadata": {},
   "outputs": [],
   "source": [
    "familia = {}\n",
    "if 'julio' in familia:\n",
    "    print('exist')"
   ]
  },
  {
   "cell_type": "code",
   "execution_count": 8,
   "metadata": {},
   "outputs": [],
   "source": [
    "#from anytree import Node, RenderTree\n",
    "\n",
    "#familia = {}\n",
    "\n",
    "\n",
    "\n",
    "\n",
    "#if 'julio' in familia:\n",
    "#    familia['javier'] = Node(\"javier\", parent=familia['julio'])\n",
    "#else:\n",
    "#    familia['julio'] = Node(\"julio\")\n",
    "#   familia['javier'] = Node(\"javier\", parent=familia['julio'])\n",
    "#\n",
    "#\n",
    "#print(RenderTree(familia['julio']))\n",
    "\n"
   ]
  },
  {
   "cell_type": "code",
   "execution_count": null,
   "metadata": {},
   "outputs": [],
   "source": []
  },
  {
   "cell_type": "code",
   "execution_count": null,
   "metadata": {},
   "outputs": [],
   "source": []
  }
 ],
 "metadata": {
  "kernelspec": {
   "display_name": "Python 3",
   "language": "python",
   "name": "python3"
  },
  "language_info": {
   "codemirror_mode": {
    "name": "ipython",
    "version": 3
   },
   "file_extension": ".py",
   "mimetype": "text/x-python",
   "name": "python",
   "nbconvert_exporter": "python",
   "pygments_lexer": "ipython3",
   "version": "3.8.3"
  }
 },
 "nbformat": 4,
 "nbformat_minor": 4
}
