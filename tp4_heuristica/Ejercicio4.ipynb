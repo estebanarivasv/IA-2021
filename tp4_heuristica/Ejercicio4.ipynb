{
 "cells": [
  {
   "cell_type": "markdown",
   "metadata": {},
   "source": [
    "# Árbol genealógico\n",
    "\n",
    "Permitir a un usuario cargar los nombres de miembros de su familia permitiendo hasta 3 generaciones. Luego permitir seleccionar un miembro y una relación y devolver los familiares correspondiente. Ej \"Pedro,hijo\" debería imprimir los hijos de Pedro. Permitir relaciónes: padre, hijo, tio, hermano, abuelo, nieto."
   ]
  },
  {
   "cell_type": "code",
   "execution_count": 19,
   "metadata": {},
   "outputs": [
    {
     "name": "stdout",
     "output_type": "stream",
     "text": [
      "Marc\n",
      "|-- Lian\n",
      "+-- r\n",
      "    +-- a\n"
     ]
    }
   ],
   "source": [
    "import itertools\n",
    "from anytree import Node, RenderTree, AsciiStyle, LevelOrderIter\n",
    "\n",
    "udo = Node(\"Udo\")\n",
    "\n",
    "marc = Node(\"Marc\")\n",
    "\n",
    "lian = Node(\"Lian\", parent=marc)\n",
    "r = Node(\"r\", parent=marc)\n",
    "a = Node(\"a\", parent=r)\n",
    "\n",
    "\n",
    "print(RenderTree(marc, style=AsciiStyle()).by_attr())\n",
    "\n",
    "\n"
   ]
  },
  {
   "cell_type": "code",
   "execution_count": null,
   "metadata": {},
   "outputs": [],
   "source": []
  }
 ],
 "metadata": {
  "kernelspec": {
   "display_name": "Python 3",
   "language": "python",
   "name": "python3"
  },
  "language_info": {
   "codemirror_mode": {
    "name": "ipython",
    "version": 3
   },
   "file_extension": ".py",
   "mimetype": "text/x-python",
   "name": "python",
   "nbconvert_exporter": "python",
   "pygments_lexer": "ipython3",
   "version": "3.8.3"
  }
 },
 "nbformat": 4,
 "nbformat_minor": 4
}
