{
 "cells": [
  {
   "cell_type": "markdown",
   "metadata": {},
   "source": [
    "# Árbol genealógico\n",
    "\n",
    "Permitir a un usuario cargar los nombres de miembros de su familia permitiendo hasta 3 generaciones. Luego permitir seleccionar un miembro y una relación y devolver los familiares correspondiente. Ej \"Pedro,hijo\" debería imprimir los hijos de Pedro. Permitir relaciónes: padre, hijo, tio, hermano, abuelo, nieto."
   ]
  },
  {
   "cell_type": "code",
   "execution_count": 54,
   "metadata": {},
   "outputs": [
    {
     "name": "stdout",
     "output_type": "stream",
     "text": [
      "Desea agregar un integrante?(y/n)y\n",
      "Ingrese nombre: julio\n",
      "Nuevo Integrante\n",
      "Ingrese rol (hijo:h / padre:p): p\n",
      "Ingrese nombre del hijo: matias\n",
      "Desea agregar un integrante?(y/n)y\n",
      "Ingrese nombre: julio\n",
      "el ya conocido Integrante\n",
      "Ingrese rol (hijo:h / padre:p): p\n",
      "Ingrese nombre del hijo: javier\n",
      "Desea agregar un integrante?(y/n)y\n",
      "Ingrese nombre: lucia\n",
      "Nuevo Integrante\n",
      "Ingrese rol (hijo:h / padre:p): h\n",
      "Ingrese nombre del Padre: matias\n",
      "Desea agregar un integrante?(y/n)n\n",
      "{'julio': Node('/julio'), 'matias': Node('/julio/matias'), 'javier': Node('/julio/javier'), 'lucia': Node('/julio/matias/lucia')}\n",
      "Node('/julio')\n",
      "├── Node('/julio/matias')\n",
      "│   └── Node('/julio/matias/lucia')\n",
      "└── Node('/julio/javier')\n"
     ]
    }
   ],
   "source": [
    "\n",
    "from anytree import Node, RenderTree, AsciiStyle\n",
    "\n",
    "\n",
    "familia = {}\n",
    "\n",
    "def ingresar_pariente():\n",
    "    nombre = input('Ingrese nombre: ')\n",
    "    \n",
    "    if nombre in familia:\n",
    "        print('el ya conocido Integrante')\n",
    "        node_p = familia[nombre]\n",
    "        \n",
    "        rol_familiar = input('Ingrese rol (hijo:h / padre:p): ')\n",
    "        \n",
    "        if rol_familiar == 'h':\n",
    "            nombreP = input('Ingrese nombre del Padre: ')\n",
    "            if nombreP in familia:\n",
    "                node_p.parent = familia[nombreP]\n",
    "            else:\n",
    "                familia[nombreP] = Node(nombreP)\n",
    "                node_p.parent = familia[nombreP]\n",
    "\n",
    "        elif rol_familiar == 'p':\n",
    "            nombreH = input('Ingrese nombre del hijo: ')\n",
    "            if nombreH in familia:\n",
    "                childrenss = list(node_p.children)\n",
    "                childrenss.append(familia[nombreH])\n",
    "                node_p.children = tuple(childrenss)\n",
    "            else:\n",
    "                familia[nombreH] = Node(str(nombreH))\n",
    "                childrenss = list(node_p.children)\n",
    "                childrenss.append(familia[nombreH])\n",
    "                node_p.children = tuple(childrenss)\n",
    "\n",
    "    else:\n",
    "        print('Nuevo Integrante')\n",
    "        rol_familiar = input('Ingrese rol (hijo:h / padre:p): ')\n",
    "        if rol_familiar == 'h':\n",
    "            nombreP = input('Ingrese nombre del Padre: ')\n",
    "            if nombreP in familia:\n",
    "                familia[nombre] = Node(str(nombre))\n",
    "                familia[nombre].parent = familia[nombreP]\n",
    "            else:\n",
    "                familia[nombreP] = Node(nombreP)\n",
    "                familia[nombre] = Node(str(nombre))\n",
    "                familia[nombre].parent = familia[nombreP]\n",
    "                \n",
    "        elif rol_familiar == 'p':\n",
    "            nombreH = input('Ingrese nombre del hijo: ')\n",
    "            if nombreH in familia:\n",
    "                familia[nombre] = Node(str(nombre))\n",
    "                familia[nombre].children=[familia[nombreH]]\n",
    "            else:\n",
    "                familia[nombre] = Node(str(nombre))\n",
    "                familia[nombreH] = Node(str(nombreH))\n",
    "                familia[nombre].children = [familia[nombreH]]\n",
    "            \n",
    "        \n",
    "\n",
    "\n",
    "def return_is_root():\n",
    "    is_parent_root = []\n",
    "\n",
    "    for value in familia:\n",
    "        if familia[value].is_root:\n",
    "            is_parent_root.append(familia[value])\n",
    "            \n",
    "    return is_parent_root[0]\n",
    "    \n",
    "\n",
    "        \n",
    "def renderizar_familia():            \n",
    "    root = return_is_rool()  \n",
    "    print(RenderTree(root))\n",
    "        \n",
    "while True:\n",
    "    accion = input('Desea agregar un integrante?(y/n)')\n",
    "    if accion == 'y':\n",
    "        ingresar_pariente()\n",
    "    else:\n",
    "        break\n",
    "\n",
    "print(familia)\n",
    "\n",
    "print('\\n')\n",
    "\n",
    "renderizar_familia()\n",
    "\n",
    "\n",
    "\n"
   ]
  },
  {
   "cell_type": "code",
   "execution_count": 52,
   "metadata": {},
   "outputs": [
    {
     "name": "stdout",
     "output_type": "stream",
     "text": [
      "Node('/matias')\n",
      "Node('/matias')\n",
      "├── Node('/matias/javier')\n",
      "└── Node('/matias/lucia')\n"
     ]
    }
   ],
   "source": [
    "\n"
   ]
  },
  {
   "cell_type": "code",
   "execution_count": 6,
   "metadata": {},
   "outputs": [
    {
     "ename": "KeyError",
     "evalue": "'julio'",
     "output_type": "error",
     "traceback": [
      "\u001b[0;31m---------------------------------------------------------------------------\u001b[0m",
      "\u001b[0;31mKeyError\u001b[0m                                  Traceback (most recent call last)",
      "\u001b[0;32m<ipython-input-6-12b46e42f62c>\u001b[0m in \u001b[0;36m<module>\u001b[0;34m\u001b[0m\n\u001b[1;32m     13\u001b[0m \u001b[0;31m#\u001b[0m\u001b[0;34m\u001b[0m\u001b[0;34m\u001b[0m\u001b[0;34m\u001b[0m\u001b[0m\n\u001b[1;32m     14\u001b[0m \u001b[0;31m#\u001b[0m\u001b[0;34m\u001b[0m\u001b[0;34m\u001b[0m\u001b[0;34m\u001b[0m\u001b[0m\n\u001b[0;32m---> 15\u001b[0;31m \u001b[0mprint\u001b[0m\u001b[0;34m(\u001b[0m\u001b[0mRenderTree\u001b[0m\u001b[0;34m(\u001b[0m\u001b[0mfamilia\u001b[0m\u001b[0;34m[\u001b[0m\u001b[0;34m'julio'\u001b[0m\u001b[0;34m]\u001b[0m\u001b[0;34m)\u001b[0m\u001b[0;34m)\u001b[0m\u001b[0;34m\u001b[0m\u001b[0;34m\u001b[0m\u001b[0m\n\u001b[0m\u001b[1;32m     16\u001b[0m \u001b[0;34m\u001b[0m\u001b[0m\n",
      "\u001b[0;31mKeyError\u001b[0m: 'julio'"
     ]
    }
   ],
   "source": [
    "#from anytree import Node, RenderTree\n",
    "\n",
    "#familia = {}\n",
    "\n",
    "\n",
    "\n",
    "\n",
    "#if 'julio' in familia:\n",
    "#    familia['javier'] = Node(\"javier\", parent=familia['julio'])\n",
    "#else:\n",
    "#    familia['julio'] = Node(\"julio\")\n",
    "#   familia['javier'] = Node(\"javier\", parent=familia['julio'])\n",
    "#\n",
    "#\n",
    "\n",
    "\n"
   ]
  },
  {
   "cell_type": "code",
   "execution_count": 25,
   "metadata": {},
   "outputs": [
    {
     "ename": "SyntaxError",
     "evalue": "invalid syntax (<ipython-input-25-9447b478442f>, line 7)",
     "output_type": "error",
     "traceback": [
      "\u001b[0;36m  File \u001b[0;32m\"<ipython-input-25-9447b478442f>\"\u001b[0;36m, line \u001b[0;32m7\u001b[0m\n\u001b[0;31m    'children': [{'sub0',\u001b[0m\n\u001b[0m              ^\u001b[0m\n\u001b[0;31mSyntaxError\u001b[0m\u001b[0;31m:\u001b[0m invalid syntax\n"
     ]
    }
   ],
   "source": [
    "from anytree.importer import DictImporter\n",
    "from anytree import RenderTree\n",
    "\n",
    "importer = DictImporter()\n",
    "data = {\n",
    "     'root',\n",
    "     'children': [{'sub0',\n",
    "                   'children': [{'a': 'sub0A', 'b': 'foo'}, {'a': 'sub0B'}]},\n",
    "                  {'sub1'}]}\n",
    "\n",
    "root = importer.import_(data)\n",
    "\n",
    "print(RenderTree(root))\n"
   ]
  },
  {
   "cell_type": "code",
   "execution_count": null,
   "metadata": {},
   "outputs": [],
   "source": []
  }
 ],
 "metadata": {
  "kernelspec": {
   "display_name": "Python 3",
   "language": "python",
   "name": "python3"
  },
  "language_info": {
   "codemirror_mode": {
    "name": "ipython",
    "version": 3
   },
   "file_extension": ".py",
   "mimetype": "text/x-python",
   "name": "python",
   "nbconvert_exporter": "python",
   "pygments_lexer": "ipython3",
   "version": "3.8.3"
  }
 },
 "nbformat": 4,
 "nbformat_minor": 4
}
