{
 "cells": [
  {
   "cell_type": "markdown",
   "metadata": {},
   "source": [
    "# El problema del viajante\n",
    "\n",
    "Dada una lista de ciudades y las distancias entre cada par de ciudades determinar la ruta más pequeña posible que visite cada ciudad y regrese a la ciudad de origen.\n",
    "\n",
    "El problema en esta situación consiste en ser un problema de combinatoria donde el costo computacional de evaluar todas las combinaciones posibles aumenta mientras se incrementa la cantidad de ciudades.\n",
    "\n",
    "Para obtener lo datos para la resolución y la heurística puede utilizarse la herramienta Google Maps."
   ]
  },
  {
   "cell_type": "markdown",
   "metadata": {},
   "source": [
    "# Primera parte\n",
    "\n",
    "Resolver el problema utilizando un método de fuerza bruta para los siguientes destinos:\n",
    "\n",
    "- San Rafael\n",
    "- El sosneado\n",
    "- Jaime Prats\n",
    "- Gral. Alvear\n",
    "\n",
    "Mostrar el costo de todas las rutas"
   ]
  },
  {
   "cell_type": "code",
   "execution_count": 1,
   "metadata": {},
   "outputs": [],
   "source": [
    "import itertools"
   ]
  },
  {
   "cell_type": "markdown",
   "metadata": {},
   "source": [
    "## Permutaciones\n",
    "<table>\n",
    "    <thead>\n",
    "        <th></th>\n",
    "        <th>San Rafael</th>\n",
    "        <th>El sosneado</th>\n",
    "        <th>Jaime Prats</th>\n",
    "        <th>Gral Alvear</th>\n",
    "    </thead>\n",
    "    <tbody>\n",
    "        <tr>\n",
    "            <th scope=\"row\">San Rafael</th>\n",
    "            <td>0</td>\n",
    "            <td>137</td>\n",
    "            <td>70,1</td>\n",
    "            <td>84,8</td>\n",
    "        </tr>\n",
    "        <tr>\n",
    "            <th scope=\"row\">El sosneado</th>\n",
    "            <td>137</td>\n",
    "            <td>0</td>\n",
    "            <td>199</td>\n",
    "            <td>214</td>\n",
    "        </tr>\n",
    "        <tr>\n",
    "            <th scope=\"row\">Jaime Prats</th>\n",
    "            <td>70</td>\n",
    "            <td>199</td>\n",
    "            <td>0</td>\n",
    "            <td>15</td>\n",
    "        </tr>\n",
    "        <tr>\n",
    "            <th scope=\"row\">Gral Alvear</th>\n",
    "            <td>84,8</td>\n",
    "            <td>214</td>\n",
    "            <td>199</td>\n",
    "            <td>0</td>\n",
    "        </tr>\n",
    "    </tbody>\n",
    "\n",
    "</table>"
   ]
  },
  {
   "cell_type": "code",
   "execution_count": 2,
   "metadata": {
    "scrolled": false
   },
   "outputs": [
    {
     "name": "stdout",
     "output_type": "stream",
     "text": [
      "['San Rafael', 'El sosneado', 'Jaime Prats', 'Gral Alvear', 'San Rafael']\n",
      "435.8\n",
      "['San Rafael', 'El sosneado', 'Gral Alvear', 'Jaime Prats', 'San Rafael']\n",
      "620\n",
      "['San Rafael', 'Jaime Prats', 'El sosneado', 'Gral Alvear', 'San Rafael']\n",
      "567.9\n",
      "['San Rafael', 'Jaime Prats', 'Gral Alvear', 'El sosneado', 'San Rafael']\n",
      "436.1\n",
      "['San Rafael', 'Gral Alvear', 'El sosneado', 'Jaime Prats', 'San Rafael']\n",
      "567.8\n",
      "['San Rafael', 'Gral Alvear', 'Jaime Prats', 'El sosneado', 'San Rafael']\n",
      "619.8\n"
     ]
    }
   ],
   "source": [
    "# Establecemos las distancias entre cada ciudad para hacer las permutaciones entre las mismas\n",
    "distancias = [[0,137,70.1,84.8],\n",
    "              [137,0,199,214],\n",
    "              [70,199,0,15],\n",
    "              [84.8,214,199,0]]\n",
    "\n",
    "\n",
    "# Establecemos la lista de localidades exceptuando San Rafael porque va a ser nuestro punto de salida y de llegada\n",
    "localidades = [\"El sosneado\", \"Jaime Prats\", \"Gral Alvear\"]\n",
    "\n",
    "\n",
    "#trayecto_final = []\n",
    "#menor_distancia = 1000000\n",
    "\n",
    "for loc_permutadas in itertools.permutations(localidades):\n",
    "    trayecto = [\"San Rafael\", \"San Rafael\"]\n",
    "    i = [0, 0] # Indices de los nombres de las localidades en la lista distancia\n",
    "\n",
    "    # Insertamos cada localidad en el medio de la lista trayecto\n",
    "    for localidad in loc_permutadas:\n",
    "        trayecto.insert(-1, localidad)\n",
    "        i.insert(-1, localidades.index(localidad) + 1)\n",
    "\n",
    "    distancia_total = distancias[i[0]][i[1]] + distancias[i[1]][i[2]] + distancias[i[2]][i[3]] + distancias[i[3]][i[4]]\n",
    "\n",
    "    print(trayecto)\n",
    "    print(distancia_total)\n",
    "\n",
    "   # if distancia_total < menor_distancia:\n",
    "       # menor_distancia = distancia_total\n",
    "       # trayecto_final = trayecto\n",
    "\n",
    "#print(\"\\nMenor distancia: \", menor_distancia)\n",
    "#print(\"Menor trayecto: \", trayecto_final)"
   ]
  },
  {
   "cell_type": "markdown",
   "metadata": {},
   "source": [
    "## Costo de las rutas"
   ]
  },
  {
   "cell_type": "markdown",
   "metadata": {},
   "source": [
    "# Segunda parte\n",
    "\n",
    "Resolver el problema agregando heurística para los siguientes destinos:\n",
    "\n",
    "- San Rafael\n",
    "- El Nihuil\n",
    "- El sosneado\n",
    "- Villa Atuel\n",
    "- Jaime Prats\n",
    "- Las Malvinas\n",
    "- Salto de las Rosas\n",
    "- Rama caída\n",
    "- Monte Coman\n",
    "- Gral. Alvear\n",
    "- Rincón del Atuel\n",
    "\n",
    "Responder:\n",
    "\n",
    "## ¿Qué heurística se utilizó? \n",
    "\n",
    "-La estrategia utilizada es, en cada ciudad buscar la próxima ciudad más cercana, ignorando la ciudad de origen. Esperamos encontrar una solución óptima, aunque la ruta no lo sea.\n"
   ]
  },
  {
   "cell_type": "markdown",
   "metadata": {},
   "source": [
    "## Permutaciones\n",
    "\n",
    "<table>\n",
    " <tbody>\n",
    "  <tr>\n",
    "   <td></td>\n",
    "   <td>San Rafael</td>\n",
    "   <td>El Nihuil</td>\n",
    "   <td>El sosneado</td>\n",
    "   <td>Villa Atuel</td>\n",
    "   <td>Jaime Prats</td>\n",
    "   <td>Las Malvinas</td>\n",
    "   <td>Salto de las Rosas</td>\n",
    "   <td>Rama Caida</td>\n",
    "   <td>Monte Coman</td>\n",
    "   <td>Gral. Alvear</td>\n",
    "   <td>Rincón del Atuel</td>\n",
    "  </tr>\n",
    "  <tr>\n",
    "   <td>San Rafael</td>\n",
    "   <td>0</td>\n",
    "   <td>72.7</td>\n",
    "   <td>137</td>\n",
    "   <td>55</td>\n",
    "   <td>74.3</td>\n",
    "   <td>36.6</td>\n",
    "   <td>23</td>\n",
    "   <td>8.7</td>\n",
    "   <td>54.2</td>\n",
    "   <td>88.9</td>\n",
    "   <td>37.6</td>\n",
    "  </tr>\n",
    "  <tr>\n",
    "   <td>El Nihuil</td>\n",
    "   <td>72.5</td>\n",
    "   <td>0</td>\n",
    "   <td>108</td>\n",
    "   <td>120</td>\n",
    "   <td>135</td>\n",
    "   <td>97.4</td>\n",
    "   <td>84</td>\n",
    "   <td>69.7</td>\n",
    "   <td>122</td>\n",
    "   <td>150</td>\n",
    "   <td>35</td>\n",
    "  </tr>\n",
    "  <tr>\n",
    "   <td>El Sosneado</td>\n",
    "   <td>137</td>\n",
    "   <td>108</td>\n",
    "   <td>0</td>\n",
    "   <td>184</td>\n",
    "   <td>199</td>\n",
    "   <td>162</td>\n",
    "   <td>148</td>\n",
    "   <td>134</td>\n",
    "   <td>186</td>\n",
    "   <td>214</td>\n",
    "   <td>99.1</td>\n",
    "  </tr>\n",
    "  <tr>\n",
    "   <td>villa atuel</td>\n",
    "   <td>54.3</td>\n",
    "   <td>120</td>\n",
    "   <td>184</td>\n",
    "   <td>0</td>\n",
    "   <td>16.7</td>\n",
    "   <td>45.2</td>\n",
    "   <td>35.6</td>\n",
    "   <td>54.5</td>\n",
    "   <td>47.1</td>\n",
    "   <td>31.5</td>\n",
    "   <td>84.7</td>\n",
    "  </tr>\n",
    "  <tr>\n",
    "   <td>jaime prats</td>\n",
    "   <td>70</td>\n",
    "   <td>136</td>\n",
    "   <td>200</td>\n",
    "   <td>16.9</td>\n",
    "   <td>0</td>\n",
    "   <td>60.8</td>\n",
    "   <td>51.3</td>\n",
    "   <td>70.2</td>\n",
    "   <td>41.2</td>\n",
    "   <td>15</td>\n",
    "   <td>100</td>\n",
    "  </tr>\n",
    "  <tr>\n",
    "   <td>Las Malvinas</td>\n",
    "   <td>36.6</td>\n",
    "   <td>97.4</td>\n",
    "   <td>162</td>\n",
    "   <td>45.2</td>\n",
    "   <td>60.8</td>\n",
    "   <td>0</td>\n",
    "   <td>18.8</td>\n",
    "   <td>29.7</td>\n",
    "   <td>57.8</td>\n",
    "   <td>75.4</td>\n",
    "   <td>62.6</td>\n",
    "  </tr>\n",
    "  <tr>\n",
    "   <td>Salto de las Rosas</td>\n",
    "   <td>23</td>\n",
    "   <td>84</td>\n",
    "   <td>148</td>\n",
    "   <td>35.6</td>\n",
    "   <td>51.3</td>\n",
    "   <td>18.8</td>\n",
    "   <td>0</td>\n",
    "   <td>18.9</td>\n",
    "   <td>43</td>\n",
    "   <td>65.8</td>\n",
    "   <td>49.1</td>\n",
    "   \n",
    "\n",
    "\n",
    "\n",
    "  </tr>\n",
    "  <tr>\n",
    "   <td>Rama Caida</td>\n",
    "   <td>8.7</td>\n",
    "   <td>68.7</td>\n",
    "   <td>134</td>\n",
    "   <td>54.5</td>\n",
    "   <td>70.2</td>\n",
    "   <td>29.2</td>\n",
    "   <td>18.9</td>\n",
    "   <td>0</td>\n",
    "   <td>56.4</td>\n",
    "   <td>84.7</td>\n",
    "   <td>34.7</td>\n",
    "  </tr>\n",
    "  <tr>\n",
    "   <td>Monte Coman</td>\n",
    "   <td>54.2</td>\n",
    "   <td>122</td>\n",
    "   <td>186</td>\n",
    "   <td>47.1</td>\n",
    "   <td>41.2</td>\n",
    "   <td>57.8</td>\n",
    "   <td>43</td>\n",
    "   <td>56.4</td>\n",
    "   <td>0</td>\n",
    "   <td>48</td>\n",
    "   <td>86.5</td>\n",
    "\n",
    "\n",
    "\n",
    "  </tr>\n",
    "  <tr>\n",
    "   <td>Gral. Alvear</td>\n",
    "   <td>88.9</td>\n",
    "   <td>150</td>\n",
    "   <td>214</td>\n",
    "   <td>31.5</td>\n",
    "   <td>15</td>\n",
    "   <td>75.4</td>\n",
    "   <td>65.8</td>\n",
    "   <td>84.7</td>\n",
    "   <td>48</td>\n",
    "   <td>0</td>\n",
    "   <td>115</td>\n",
    "\n",
    "  </tr>\n",
    "  <tr>\n",
    "   <td>Rincoón del Atuel</td>\n",
    "   <td>37.6</td>\n",
    "   <td>35</td>\n",
    "   <td>99.1</td>\n",
    "   <td>84.7</td>\n",
    "   <td>100</td>\n",
    "   <td>62.6</td>\n",
    "   <td>49.1</td>\n",
    "   <td>34.7</td>\n",
    "   <td>86.5</td>\n",
    "   <td>115</td>\n",
    "   <td>0</td>\n",
    "  </tr>\n",
    "\n",
    "\n",
    " </tbody>\n",
    "</table>"
   ]
  },
  {
   "cell_type": "code",
   "execution_count": 1,
   "metadata": {},
   "outputs": [],
   "source": [
    "from ortools.constraint_solver import routing_enums_pb2\n",
    "from ortools.constraint_solver import pywrapcp\n",
    "\n",
    "# Establecemos las distancias entre cada ciudad para hacer las permutaciones entre las mismas\n",
    "distancias = [[0,72.7,136.7,59.1,70.1,36.4,23,8.7,54.2,85.7,37.7],\n",
    "              [72.7,0,107.8,120.1,135.2,97.7,84.2,69.8,122,150,35],\n",
    "              [136.7,107.8,0,184,199,162,148,134,186,214,99.1],\n",
    "              [59.1,120.1,184,0,16.7,45.2,35.6,54.5,47.1,31.4,84.7],\n",
    "              [70.1, 135.2, 199, 16.7, 0, 60.8, 51.3, 70.2, 41.2, 15, 100],\n",
    "              [36.4, 97.7, 162, 45.2, 60.8, 0, 18.8, 29.7, 57.8, 75.4, 62.6],\n",
    "              [23,84.2,148,35.6,51.3,18.8,0,18.9,43,65.8,49.1],\n",
    "              [8.7,69.8,134,54.5,70.2,29.7,18.9,0,56.4,84.7,34.7],\n",
    "              [54.2,122,186,47.1,41.2,57.8,43,56.4,0,48,86.5],\n",
    "              [85.7,150,214,31.4,15,75.4,65.8,84.7,48,0,115],\n",
    "              [37.6,35,99.1,84.7,100,62.6,49.1,34.7,86.5,115,0]]\n",
    "\n",
    "# Establecemos la lista de localidades exceptuando San Rafael porque va a ser nuestro punto de salida y de llegada\n",
    "localidades = [\"San Rafael\",\"El Nihuil\",\"El sosneado\",\"Villa Atuel\",\"Jaime Prats\",\"Las Malvinas\",\"Salto de las Rosas\",\"Rama Caida\",\"Monte Coman\",\"gral. Alvear\",\"Rincón del Atuel\"]\n",
    "\n",
    "v = 1\n",
    "d = 0\n",
    "\n",
    "gestor = pywrapcp.RoutingIndexManager(len(distancias),v,d)\n",
    "enrutamiento = pywrapcp.RoutingModel(gestor)\n",
    "\n",
    "\n",
    "    "
   ]
  },
  {
   "cell_type": "code",
   "execution_count": 2,
   "metadata": {},
   "outputs": [],
   "source": [
    "def definir_distancia(from_index, to_index):\n",
    "\n",
    "    from_node = gestor.IndexToNode(from_index)\n",
    "    to_node = gestor.IndexToNode(to_index)\n",
    "    return distancias[from_node][to_node]\n"
   ]
  },
  {
   "cell_type": "code",
   "execution_count": 3,
   "metadata": {},
   "outputs": [
    {
     "data": {
      "text/plain": [
       "1"
      ]
     },
     "execution_count": 3,
     "metadata": {},
     "output_type": "execute_result"
    }
   ],
   "source": [
    "transit_callback_index = enrutamiento.RegisterTransitCallback(definir_distancia)\n",
    "transit_callback_index\n"
   ]
  },
  {
   "cell_type": "code",
   "execution_count": 4,
   "metadata": {},
   "outputs": [],
   "source": [
    "enrutamiento.SetArcCostEvaluatorOfAllVehicles(transit_callback_index)\n"
   ]
  },
  {
   "cell_type": "code",
   "execution_count": 5,
   "metadata": {},
   "outputs": [],
   "source": [
    "search_parameters = pywrapcp.DefaultRoutingSearchParameters()\n",
    "search_parameters.first_solution_strategy = (\n",
    "    routing_enums_pb2.FirstSolutionStrategy.PATH_CHEAPEST_ARC) #PATH_CHEAPEST_ARC: estrategia del camino más barato"
   ]
  },
  {
   "cell_type": "code",
   "execution_count": 6,
   "metadata": {},
   "outputs": [],
   "source": [
    "def ver_solucion(gestor, enrutamiento, solucion):\n",
    "\n",
    "    index = enrutamiento.Start(0)\n",
    "    plan = 'Ruta: '\n",
    "    distancia_entre_rutas = 0\n",
    "    while not enrutamiento.IsEnd(index):\n",
    "        plan += ' {} ->'.format(gestor.IndexToNode(index))\n",
    "        previous_index = index\n",
    "        index = solucion.Value(enrutamiento.NextVar(index))\n",
    "        distancia_entre_rutas += enrutamiento.GetArcCostForVehicle(previous_index, index, 0)\n",
    "    plan += ' {}\\n'.format(gestor.IndexToNode(index))\n",
    "    print(plan)"
   ]
  },
  {
   "cell_type": "code",
   "execution_count": 7,
   "metadata": {},
   "outputs": [
    {
     "name": "stdout",
     "output_type": "stream",
     "text": [
      "Ruta:  0 -> 8 -> 9 -> 4 -> 3 -> 5 -> 6 -> 7 -> 10 -> 1 -> 2 -> 0\n",
      "\n"
     ]
    }
   ],
   "source": [
    "solucion = enrutamiento.SolveWithParameters(search_parameters)\n",
    "if solucion:\n",
    "    ver_solucion(gestor, enrutamiento, solucion)"
   ]
  },
  {
   "cell_type": "code",
   "execution_count": 8,
   "metadata": {},
   "outputs": [],
   "source": [
    "def buscar_rutas(solution, routing, manager):\n",
    "\n",
    "  rutas = []\n",
    "  for route_nbr in range(routing.vehicles()):\n",
    "    index = routing.Start(route_nbr)\n",
    "    ruta = [manager.IndexToNode(index)]\n",
    "    while not routing.IsEnd(index):\n",
    "      index = solution.Value(routing.NextVar(index))\n",
    "      ruta.append(manager.IndexToNode(index))\n",
    "    rutas.append(ruta)\n",
    "  return rutas"
   ]
  },
  {
   "cell_type": "code",
   "execution_count": 10,
   "metadata": {},
   "outputs": [
    {
     "name": "stdout",
     "output_type": "stream",
     "text": [
      "Camino 0 [0, 8, 9, 4, 3, 5, 6, 7, 10, 1, 2, 0]\n"
     ]
    }
   ],
   "source": [
    "ruta = buscar_rutas(solucion, enrutamiento, gestor)\n",
    "\n",
    "for i, j in enumerate(ruta):\n",
    "  print('Camino', i, j)"
   ]
  },
  {
   "cell_type": "code",
   "execution_count": 11,
   "metadata": {},
   "outputs": [
    {
     "data": {
      "text/plain": [
       "[[0, 8, 9, 4, 3, 5, 6, 7, 10, 1, 2, 0]]"
      ]
     },
     "execution_count": 11,
     "metadata": {},
     "output_type": "execute_result"
    }
   ],
   "source": [
    "ruta"
   ]
  },
  {
   "cell_type": "code",
   "execution_count": 12,
   "metadata": {},
   "outputs": [
    {
     "name": "stdout",
     "output_type": "stream",
     "text": [
      "San Rafael\n",
      "Monte Coman\n",
      "gral. Alvear\n",
      "Jaime Prats\n",
      "Villa Atuel\n",
      "Las Malvinas\n",
      "Salto de las Rosas\n",
      "Rama Caida\n",
      "Rincón del Atuel\n",
      "El Nihuil\n",
      "El sosneado\n",
      "San Rafael\n"
     ]
    }
   ],
   "source": [
    "for i in ruta[0]:\n",
    "    print(localidades[i])"
   ]
  },
  {
   "cell_type": "code",
   "execution_count": null,
   "metadata": {},
   "outputs": [],
   "source": []
  }
 ],
 "metadata": {
  "kernelspec": {
   "display_name": "Python 3",
   "language": "python",
   "name": "python3"
  },
  "language_info": {
   "codemirror_mode": {
    "name": "ipython",
    "version": 3
   },
   "file_extension": ".py",
   "mimetype": "text/x-python",
   "name": "python",
   "nbconvert_exporter": "python",
   "pygments_lexer": "ipython3",
   "version": "3.8.3"
  }
 },
 "nbformat": 4,
 "nbformat_minor": 4
}
