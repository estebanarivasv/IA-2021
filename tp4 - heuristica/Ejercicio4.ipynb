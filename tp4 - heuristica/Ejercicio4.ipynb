{
 "cells": [
  {
   "cell_type": "markdown",
   "metadata": {},
   "source": [
    "# Árbol genealógico\n",
    "\n",
    "Permitir a un usuario cargar los nombres de miembros de su familia permitiendo hasta 3 generaciones. Luego permitir seleccionar un miembro y una relación y devolver los familiares correspondientes. Ej \"Pedro,hijo\" debería imprimir los hijos de Pedro. Permitir relaciónes: padre, hijo, tio, hermano, abuelo, nieto."
   ]
  }
 ],
 "metadata": {
  "kernelspec": {
   "display_name": "Python 3",
   "language": "python",
   "name": "python3"
  },
  "language_info": {
   "codemirror_mode": {
    "name": "ipython",
    "version": 3
   },
   "file_extension": ".py",
   "mimetype": "text/x-python",
   "name": "python",
   "nbconvert_exporter": "python",
   "pygments_lexer": "ipython3",
   "version": "3.8.8"
  }
 },
 "nbformat": 4,
 "nbformat_minor": 4
}
