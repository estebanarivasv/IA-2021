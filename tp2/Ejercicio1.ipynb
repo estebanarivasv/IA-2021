{
 "cells": [
  {
   "cell_type": "markdown",
   "metadata": {},
   "source": [
    "# Ejercicio 1 - Heladería\n",
    "\n",
    "Se quiere calcular la catidad de clientes que tendrá una heladería dependiendo de la temperatura exterior.\n",
    "\n",
    "- Si la temperatura es <b>alta</b> entonces la heladería estará <b>llena</b>\n",
    "- Si la temperatura es <b>moderada</b> entonces la heladería estará <b>ocupada</b>\n",
    "- Si la temperatura es <b>baja</b> entonces la heladería estará <b>tranquila</b>\n",
    "\n",
    "El número máximo de clientes para el local es de 35 clientes.\n",
    "Definir los rangos de pertenencias para los antecedentes y consecuentes."
   ]
  },
  {
   "cell_type": "code",
   "execution_count": 1,
   "metadata": {},
   "outputs": [],
   "source": [
    "%matplotlib inline\n",
    "import numpy as np\n",
    "import skfuzzy as fuzz\n",
    "from skfuzzy import control as ctrl\n",
    "import matplotlib\n",
    "import matplotlib.pyplot as plt"
   ]
  },
  {
   "cell_type": "markdown",
   "metadata": {},
   "source": [
    "## Antecendentes\n",
    "\n",
    "Definir y graficar los antecedentes para el problema."
   ]
  },
  {
   "cell_type": "code",
   "execution_count": 2,
   "metadata": {},
   "outputs": [
    {
     "name": "stderr",
     "output_type": "stream",
     "text": [
      "/usr/local/anaconda3/lib/python3.8/site-packages/skfuzzy/control/fuzzyvariable.py:122: UserWarning: Matplotlib is currently using module://ipykernel.pylab.backend_inline, which is a non-GUI backend, so cannot show the figure.\n",
      "  fig.show()\n"
     ]
    },
    {
     "data": {
      "image/png": "[encoded data removed]",
      "text/plain": [
       "<Figure size 432x288 with 1 Axes>"
      ]
     },
     "metadata": {
      "needs_background": "light"
     },
     "output_type": "display_data"
    }
   ],
   "source": [
    "temp = ctrl.Antecedent(np.arange(-20,35,1),\"temperatura\")\n",
    "temp['baja'] = fuzz.trapmf(temp.universe, [-20, 5, 15,15])\n",
    "temp['media'] = fuzz.trimf(temp.universe, [3, 20, 30])\n",
    "temp['alta'] = fuzz.trapmf(temp.universe, [23, 30, 35,35])\n",
    "temp.view()\n"
   ]
  },
  {
   "cell_type": "markdown",
   "metadata": {},
   "source": [
    "## Consecuentes\n",
    "\n",
    "Definir y gráficar los antecedentes para el problema."
   ]
  },
  {
   "cell_type": "code",
   "execution_count": null,
   "metadata": {},
   "outputs": [],
   "source": [
    "cantidad = ctrl.Consequent(np.arange(0, 36, 1), 'cantidad')\n",
    "cantidad['tranquila'] = fuzz.trimf(cantidad.universe, [0, 5, 10])\n",
    "cantidad['ocupada'] = fuzz.trimf(cantidad.universe, [5, 20, 25])\n",
    "cantidad['llena'] = fuzz.trapmf(cantidad.universe, [20, 30, 35, 35])\n",
    "\n",
    "\n",
    "cantidad.view()"
   ]
  },
  {
   "cell_type": "markdown",
   "metadata": {},
   "source": [
    "## Reglas\n",
    "\n",
    "Definir las reglas para el sistema."
   ]
  },
  {
   "cell_type": "code",
   "execution_count": null,
   "metadata": {},
   "outputs": [],
   "source": [
    "cantidad.defuzzify_method = 'mom'\n",
    "rules = []\n",
    "rules.append(ctrl.Rule( temp['baja'], cantidad['tranquila']  ) )\n",
    "rules.append(ctrl.Rule( temp['media'], cantidad['ocupada'] ) )\n",
    "rules.append(ctrl.Rule( temp['alta'], cantidad['llena'] ) )"
   ]
  },
  {
   "cell_type": "markdown",
   "metadata": {},
   "source": [
    "## Simulación\n",
    "\n",
    "Simular y graficar la salida del sistema para las siguientes temperaturas.\n",
    " - -10º\n",
    " - 0º\n",
    " - 10º\n",
    " - 14º\n",
    " - 20º\n",
    " - 33 º"
   ]
  },
  {
   "cell_type": "code",
   "execution_count": null,
   "metadata": {},
   "outputs": [],
   "source": [
    "cantidad.defuzzify_method = 'som'\n",
    "rules = []\n",
    "rules.append(ctrl.Rule( temp['baja'], cantidad['tranquila']  ) )\n",
    "rules.append(ctrl.Rule( temp['media'], cantidad['ocupada'] ) )\n",
    "rules.append(ctrl.Rule( temp['alta'], cantidad['llena'] ) )\n",
    "\n",
    "ctrSys = ctrl.ControlSystem(rules)\n",
    "customers = ctrl.ControlSystemSimulation(ctrSys)\n",
    "\n",
    "pruebas = [-10,0,10,14,20,33]\n",
    "\n",
    "customers.input['temperatura'] = -10\n",
    "customers.compute()\n",
    "print(\"Resultado:\"+str(customers.output['cantidad']))\n",
    "\n",
    "#for x in pruebas:\n",
    " #   customers.input['temperatura'] = x\n",
    "  #  customers.compute()\n",
    "   # print(\"Resultado:\"+str(customers.output['cantidad']))\n",
    "\n",
    "cantidad.view(sim=customers)"
   ]
  },
  {
   "cell_type": "code",
   "execution_count": null,
   "metadata": {},
   "outputs": [],
   "source": []
  },
  {
   "cell_type": "code",
   "execution_count": null,
   "metadata": {},
   "outputs": [],
   "source": []
  },
  {
   "cell_type": "code",
   "execution_count": null,
   "metadata": {},
   "outputs": [],
   "source": []
  }
 ],
 "metadata": {
  "kernelspec": {
   "display_name": "Python 3",
   "language": "python",
   "name": "python3"
  },
  "language_info": {
   "codemirror_mode": {
    "name": "ipython",
    "version": 3
   },
   "file_extension": ".py",
   "mimetype": "text/x-python",
   "name": "python",
   "nbconvert_exporter": "python",
   "pygments_lexer": "ipython3",
   "version": "3.8.3"
  }
 },
 "nbformat": 4,
 "nbformat_minor": 4
}
