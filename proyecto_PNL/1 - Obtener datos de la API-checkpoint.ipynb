{
 "cells": [
  {
   "cell_type": "markdown",
   "metadata": {},
   "source": [
    "# Obtener datos de la API"
   ]
  },
  {
   "cell_type": "code",
   "execution_count": 1,
   "metadata": {},
   "outputs": [],
   "source": [
    "import os\n",
    "from dotenv import load_dotenv\n",
    "from nltk.tokenize import TweetTokenizer\n",
    "import pandas as pd\n",
    "from wordcloud import WordCloud\n",
    "import matplotlib.pyplot as plt\n",
    "\n",
    "load_dotenv()\n",
    "\n",
    "bearer_token = os.environ.get(\"BEARER_TOKEN\")"
   ]
  },
  {
   "cell_type": "markdown",
   "metadata": {},
   "source": [
    "### Definir consulta a la API\n",
    "\n",
    "#### URL de la consulta\n",
    "\n",
    "Definir la URL de acuerdo a los datos requeridos de acuerdo a la documentación de la <a href=\"https://developer.twitter.com/en/docs/twitter-api/api-reference-index\">API</a>"
   ]
  },
  {
   "cell_type": "code",
   "execution_count": 2,
   "metadata": {},
   "outputs": [],
   "source": [
    "url = \"https://api.twitter.com/2/tweets/search/recent\""
   ]
  },
  {
   "cell_type": "markdown",
   "metadata": {},
   "source": [
    "### Definir parámetros adicionales\n",
    "\n",
    "Definr valores como el rango de fecha, hashtag, contenido y campos requeridos."
   ]
  },
  {
   "cell_type": "code",
   "execution_count": 3,
   "metadata": {},
   "outputs": [],
   "source": [
    "params = {\n",
    "    'query': '#AppleEvent -is:retweet lang:en',\n",
    "    'max_results':100\n",
    "}"
   ]
  },
  {
   "cell_type": "markdown",
   "metadata": {},
   "source": [
    "### Definir cabecera\n",
    "La cabecera debe llevar el Token de autenticación para que la consulta sea autorizada\n"
   ]
  },
  {
   "cell_type": "code",
   "execution_count": 4,
   "metadata": {},
   "outputs": [],
   "source": [
    "headers = {\n",
    "    \"Authorization\": f\"Bearer {bearer_token}\",\n",
    "    \"User-Agent\":\"v2FullArchiveSearchPython\"\n",
    "} "
   ]
  },
  {
   "cell_type": "markdown",
   "metadata": {},
   "source": [
    "### Realizar consulta"
   ]
  },
  {
   "cell_type": "code",
   "execution_count": 5,
   "metadata": {
    "scrolled": false
   },
   "outputs": [
    {
     "ename": "SyntaxError",
     "evalue": "invalid syntax (<ipython-input-5-bbd4d30e7892>, line 29)",
     "output_type": "error",
     "traceback": [
      "\u001b[0;36m  File \u001b[0;32m\"<ipython-input-5-bbd4d30e7892>\"\u001b[0;36m, line \u001b[0;32m29\u001b[0m\n\u001b[0;31m    i++\u001b[0m\n\u001b[0m       ^\u001b[0m\n\u001b[0;31mSyntaxError\u001b[0m\u001b[0;31m:\u001b[0m invalid syntax\n"
     ]
    }
   ],
   "source": [
    "import requests\n",
    "response = requests.get(url, headers=headers, params=params)\n",
    "\n",
    "\n",
    "def get_data(url,params):\n",
    "    results = []\n",
    "    i =0\n",
    "\n",
    "    while i <= 2000:\n",
    "        response = requests.get(url, headers=headers, params=params)\n",
    "        # Generar excepción si la respuesta no es exitosa\n",
    "        if response.status_code != 200:\n",
    "            raise Exception(response.status_code, response.text)\n",
    "        data = response.json()['data']\n",
    "        meta_data = dict(response.json())['meta']\n",
    "        results.append(pd.json_normalize(data))\n",
    "        if 'next_token' not in meta_data:\n",
    "            break\n",
    "        else:\n",
    "            token = meta_data['next_token']\n",
    "            print(\"Token paginacion actual: \", token)\n",
    "            params = {\n",
    "                'query': '#AppleEvent -is:retweet lang:en',\n",
    "                'tweet.fields':'created_at,entities',\n",
    "                'user.fields':'username',\n",
    "                'next_token':token,\n",
    "                'max_results':100\n",
    "            }\n",
    "        i+=1\n",
    "    return pd.concat(results)\n",
    "\n",
    "\n",
    "response = requests.get(url, headers=headers, params=params)\n",
    "\n",
    "# Generar excepción si la respuesta no es exitosa\n",
    "if response.status_code != 200:\n",
    "    raise Exception(response.status_code, response.text)\n",
    "    \n",
    "print(\"Request metadata\", dict(response.json())['meta'])\n",
    "\n",
    "df = get_data(url, params)\n",
    "\n",
    "#df.drop(columns=['entities.annotations','entities.hashtags','entities.mentions', 'entities.urls'],inplace=True)\n",
    "\n",
    "df"
   ]
  },
  {
   "cell_type": "markdown",
   "metadata": {},
   "source": [
    "### Formatear respuesta\n",
    "\n",
    "Convertir respuesta en un dataframe de Pandas"
   ]
  },
  {
   "cell_type": "code",
   "execution_count": null,
   "metadata": {},
   "outputs": [],
   "source": [
    "\n",
    "\n",
    "df = pd.json_normalize(response.json()['data'])\n",
    "\n",
    "df.to_csv('tweets_apple_event.csv')  "
   ]
  },
  {
   "cell_type": "code",
   "execution_count": null,
   "metadata": {},
   "outputs": [],
   "source": [
    "dd = pd.read_csv(\"tweets_apple_event.csv\")"
   ]
  },
  {
   "cell_type": "code",
   "execution_count": null,
   "metadata": {},
   "outputs": [],
   "source": [
    "\n",
    "tt = TweetTokenizer()\n",
    "\n",
    "tokenized_text = dd['text'].apply(tt.tokenize)\n",
    "dd['tokenized_text'] = tokenized_text\n",
    "dd"
   ]
  },
  {
   "cell_type": "code",
   "execution_count": null,
   "metadata": {},
   "outputs": [],
   "source": []
  },
  {
   "cell_type": "code",
   "execution_count": null,
   "metadata": {},
   "outputs": [],
   "source": []
  }
 ],
 "metadata": {
  "kernelspec": {
   "display_name": "Python 3",
   "language": "python",
   "name": "python3"
  },
  "language_info": {
   "codemirror_mode": {
    "name": "ipython",
    "version": 3
   },
   "file_extension": ".py",
   "mimetype": "text/x-python",
   "name": "python",
   "nbconvert_exporter": "python",
   "pygments_lexer": "ipython3",
   "version": "3.8.3"
  }
 },
 "nbformat": 4,
 "nbformat_minor": 5
}
