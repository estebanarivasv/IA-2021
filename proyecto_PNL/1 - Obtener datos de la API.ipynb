{
 "cells": [
  {
   "cell_type": "markdown",
   "id": "00aa51a6",
   "metadata": {},
   "source": [
    "# Obtener datos de la API"
   ]
  },
  {
   "cell_type": "markdown",
   "id": "476598d5",
   "metadata": {},
   "source": [
    "## Obtener una cuenta de Twitter Developer\n",
    "\n",
    "- Crear una cuenta en <a href=\"https://twitter.com/\">Twitter</a> o ingresar a una ya creada\n",
    "- Solicitar una <a href=\"https://developer.twitter.com/en/portal/petition/use-case\">cuenta de developer</a>  \n",
    "<br/>\n",
    "<img src=\"img/twitter_api_1.png\" style=\"width:50%;float:left;border:1px solid black\">\n",
    "<img src=\"img/twitter_api_2.png\" style=\"width:50%;float:left;border:1px solid black\">\n",
    "<img src=\"img/twitter_api_3.png\" style=\"width:50%;float:left;border:1px solid black\">\n",
    "<img src=\"img/twitter_api_4.png\" style=\"width:50%;float:left;border:1px solid black\">\n",
    "\n",
    "#### How will you use the Twitter API or Twitter Data?\n",
    "\n",
    "I will search and filter tweets with specific hashtags in order to perform data mining and sentiment analysis practices. These tasks are part of the Artificial Intelligence course. The extracted data will not be used for any other purpose.\n",
    "\n",
    "#### Are you planning to analyze Twitter data?\n",
    "\n",
    "I will perform sentiment analysis of the content of the tweets and their geographical location. The type of content of each tweet will be evaluated (links, images, videos)\n",
    "\n",
    "\n",
    "<br/><br/>\n",
    "<img src=\"img/twitter_api_5.png\" style=\"width:50%;float:left;border:1px solid black\">\n",
    "<img src=\"img/twitter_api_6.png\" style=\"width:50%;float:left;border:1px solid black\">\n",
    "\n",
    "\n",
    "### Responder mail\n",
    "\n",
    "Si Twitter envía un mail solicitando más información responder con el siguiente mensaje.\n",
    "\n",
    "<code>\n",
    "    I will search and filter tweets with specific hashtags in order to perform data mining and sentiment analysis practices. These tasks are part of the Artificial Intelligence course. The extracted data will not be used for any other purpose.\n",
    "    I will perform sentiment analysis of the content of the tweets and their geographical location. The type of content of each tweet will be evaluated (links, images, videos)\n",
    "    I will not be using the Tweeting, Retweeting, or liking content. I will only use the API to obtain tweets content.\n",
    "    The content of the tweets will not be shown. The content will only be used to carry out data analysis exercises during the course.\n",
    "</code>"
   ]
  },
  {
   "cell_type": "markdown",
   "id": "bb0c7749",
   "metadata": {},
   "source": [
    "## Crear aplicación\n",
    "\n",
    "- Crear proyecto\n",
    "- Crear aplicación dentro del proyecto\n",
    "- Obtener y guardar claves (copiar todas las claves antes de continuar ya que no pueden ser accedidas más adelante)\n",
    "\n",
    "<br/>\n",
    "<img src=\"img/twitter_api_8.png\" style=\"width:30%;float:left;border:1px solid black\">\n",
    "<img src=\"img/twitter_api_7.png\" style=\"width:70%;float:left;border:1px solid black\">\n"
   ]
  },
  {
   "cell_type": "markdown",
   "id": "14ffa3e4",
   "metadata": {},
   "source": [
    "## Cargar Token en variables de entorno\n",
    "\n",
    " - Cargar el valor del token en un archivo .env\n",
    " <code>export 'BEARER_TOKEN'='valor del bearer token' </code>\n",
    " - Agregar el archivo .env dentro del .gitignore en caso de trabajar en repositorio"
   ]
  },
  {
   "cell_type": "markdown",
   "id": "a6817282",
   "metadata": {},
   "source": [
    "## Cargar valor del Token en la aplicación"
   ]
  },
  {
   "cell_type": "code",
   "execution_count": 2,
   "id": "0213a32e",
   "metadata": {},
   "outputs": [
    {
     "ename": "ModuleNotFoundError",
     "evalue": "No module named 'dotenv'",
     "output_type": "error",
     "traceback": [
      "\u001B[0;31m---------------------------------------------------------------------------\u001B[0m",
      "\u001B[0;31mModuleNotFoundError\u001B[0m                       Traceback (most recent call last)",
      "\u001B[0;32m/tmp/ipykernel_23778/1655465245.py\u001B[0m in \u001B[0;36m<module>\u001B[0;34m\u001B[0m\n\u001B[1;32m      1\u001B[0m \u001B[0;32mimport\u001B[0m \u001B[0mos\u001B[0m\u001B[0;34m\u001B[0m\u001B[0;34m\u001B[0m\u001B[0m\n\u001B[0;32m----> 2\u001B[0;31m \u001B[0;32mfrom\u001B[0m \u001B[0mdotenv\u001B[0m \u001B[0;32mimport\u001B[0m \u001B[0mload_dotenv\u001B[0m\u001B[0;34m\u001B[0m\u001B[0;34m\u001B[0m\u001B[0m\n\u001B[0m\u001B[1;32m      3\u001B[0m \u001B[0;31m# Cargar valores del archivo .env en las variables de entorno\u001B[0m\u001B[0;34m\u001B[0m\u001B[0;34m\u001B[0m\u001B[0;34m\u001B[0m\u001B[0m\n\u001B[1;32m      4\u001B[0m \u001B[0mload_dotenv\u001B[0m\u001B[0;34m(\u001B[0m\u001B[0;34m)\u001B[0m\u001B[0;34m\u001B[0m\u001B[0;34m\u001B[0m\u001B[0m\n\u001B[1;32m      5\u001B[0m \u001B[0;31m# Cargar valor del token a variable\u001B[0m\u001B[0;34m\u001B[0m\u001B[0;34m\u001B[0m\u001B[0;34m\u001B[0m\u001B[0m\n",
      "\u001B[0;31mModuleNotFoundError\u001B[0m: No module named 'dotenv'"
     ]
    }
   ],
   "source": [
    "import os\n",
    "from dotenv import load_dotenv\n",
    "# Cargar valores del archivo .env en las variables de entorno\n",
    "load_dotenv()\n",
    "# Cargar valor del token a variable\n",
    "bearer_token = os.environ.get(\"BEARER_TOKEN\")"
   ]
  },
  {
   "cell_type": "markdown",
   "id": "e6a81d9c",
   "metadata": {},
   "source": [
    "## Definir consulta a la API\n",
    "\n",
    "### URL de la consulta\n",
    "\n",
    "Definir la URL de acuerdo a los datos requeridos de acuerdo a la documentación de la <a href=\"https://developer.twitter.com/en/docs/twitter-api/api-reference-index\">API</a>"
   ]
  },
  {
   "cell_type": "code",
   "execution_count": null,
   "id": "83639c4e",
   "metadata": {},
   "outputs": [],
   "source": [
    "url = \"https://api.twitter.com/2/tweets/search/recent\""
   ]
  },
  {
   "cell_type": "markdown",
   "id": "ad037fc5",
   "metadata": {},
   "source": [
    "## Definir parámetros adicionales\n",
    "\n",
    "Definr valores como el rango de fecha, hashtag, contenido y campos requeridos."
   ]
  },
  {
   "cell_type": "code",
   "execution_count": null,
   "id": "2a1db13b",
   "metadata": {},
   "outputs": [],
   "source": [
    "params = {\n",
    "    'query': '#machinelearning -is:retweet',\n",
    "    'tweet.fields':'created_at',\n",
    "    'max_results':100\n",
    "}"
   ]
  },
  {
   "cell_type": "markdown",
   "id": "49e682b1",
   "metadata": {},
   "source": [
    "## Definir cabecera\n",
    "La cabecera debe llevar el Token de autenticación para que la consulta sea autorizada\n"
   ]
  },
  {
   "cell_type": "code",
   "execution_count": null,
   "id": "c61ebc83",
   "metadata": {},
   "outputs": [],
   "source": [
    "headers = {\n",
    "    \"Authorization\": f\"Bearer {bearer_token}\",\n",
    "    \"User-Agent\":\"v2FullArchiveSearchPython\"\n",
    "} "
   ]
  },
  {
   "cell_type": "markdown",
   "id": "c44ae17d",
   "metadata": {},
   "source": [
    "## Realizar consulta"
   ]
  },
  {
   "cell_type": "code",
   "execution_count": null,
   "id": "797b5954",
   "metadata": {},
   "outputs": [],
   "source": [
    "import requests\n",
    "response = requests.get(url, headers=headers, params=params)\n",
    "print(response)\n",
    "# Generar excepción si la respuesta no es exitosa\n",
    "if response.status_code != 200:\n",
    "    raise Exception(response.status_code, response.text)\n",
    "print(response.json())"
   ]
  },
  {
   "cell_type": "markdown",
   "id": "bee63cde",
   "metadata": {},
   "source": [
    "## Formatear respuesta\n",
    "\n",
    "Convertir respuesta en un dataframe de Pandas"
   ]
  },
  {
   "cell_type": "code",
   "execution_count": null,
   "id": "6377ef96",
   "metadata": {},
   "outputs": [],
   "source": [
    "import pandas as pd\n",
    "df = pd.json_normalize(response.json()['data'])\n",
    "df"
   ]
  },
  {
   "cell_type": "markdown",
   "id": "5e23d4c6",
   "metadata": {},
   "source": [
    "# Ejercicios\n",
    "\n",
    " A partir de la documentación del endpoint <a href=\"https://developer.twitter.com/en/docs/twitter-api/tweets/search/api-reference/get-tweets-search-recent\"> Recent </a> y las opciones de <a href=\"https://developer.twitter.com/en/docs/twitter-api/tweets/search/integrate/build-a-query\"> query </a> obtener:\n",
    " \n",
    " - Una lista de las fechas y creación de los tweets realizados por el usuario @kdnuggets que contenga el hashtag #NLP"
   ]
  },
  {
   "cell_type": "code",
   "execution_count": null,
   "id": "abbd9005",
   "metadata": {},
   "outputs": [],
   "source": []
  },
  {
   "cell_type": "markdown",
   "id": "a8fd45c2",
   "metadata": {},
   "source": [
    "- Una lista de los textos y nombres de usuario correspondientes a los tweets que contengan los hashtags #NLP y #MachineLearning que no sean retweets"
   ]
  },
  {
   "cell_type": "code",
   "execution_count": null,
   "id": "2771d7f2",
   "metadata": {},
   "outputs": [],
   "source": []
  },
  {
   "cell_type": "markdown",
   "id": "ed3deeac",
   "metadata": {},
   "source": [
    "- Una lista de los textos y enlaces de los tweets que contengan los hashtags #InteligenciaArtificial o #IA en español"
   ]
  },
  {
   "cell_type": "code",
   "execution_count": null,
   "id": "867275e8",
   "metadata": {},
   "outputs": [],
   "source": []
  },
  {
   "cell_type": "markdown",
   "id": "238118d1",
   "metadata": {},
   "source": [
    "## Descargar a CSV"
   ]
  },
  {
   "cell_type": "code",
   "execution_count": null,
   "id": "19fe8189",
   "metadata": {},
   "outputs": [],
   "source": [
    "df.to_csv('tweets_ej')  "
   ]
  }
 ],
 "metadata": {
  "kernelspec": {
   "display_name": "Python 3 (ipykernel)",
   "language": "python",
   "name": "python3"
  },
  "language_info": {
   "codemirror_mode": {
    "name": "ipython",
    "version": 3
   },
   "file_extension": ".py",
   "mimetype": "text/x-python",
   "name": "python",
   "nbconvert_exporter": "python",
   "pygments_lexer": "ipython3",
   "version": "3.7.11"
  }
 },
 "nbformat": 4,
 "nbformat_minor": 5
}