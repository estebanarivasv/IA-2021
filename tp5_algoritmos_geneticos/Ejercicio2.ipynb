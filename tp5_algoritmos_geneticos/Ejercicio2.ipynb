{
 "cells": [
  {
   "cell_type": "markdown",
   "metadata": {},
   "source": [
    "## Problema del viajante\n",
    "\n",
    "Resolver el problema del viajante utilizando algoritmos genéticos. \n",
    "\n",
    "- ¿Es posible aproximarse al resultado?"
   ]
  },
  {
   "cell_type": "markdown",
   "metadata": {},
   "source": [
    "### Codificación\n",
    "\n",
    "- Definir como se codificará el problema\n",
    "\n",
    "\n",
    "#### Matriz de costos\n",
    "\n",
    "##### Distancias desde San Rafael\n",
    "\n",
    "<table>\n",
    " <tbody>\n",
    "  <tr>\n",
    "   <td></td>\n",
    "   <td>San Rafael</td>\n",
    "   <td>El Nihuil</td>\n",
    "   <td>El sosneado</td>\n",
    "   <td>Villa Atuel</td>\n",
    "   <td>Jaime Prats</td>\n",
    "   <td>Las Malvinas</td>\n",
    "   <td>Salto de las Rosas</td>\n",
    "   <td>Rama Caida</td>\n",
    "   <td>Monte Coman</td>\n",
    "   <td>Gral. Alvear</td>\n",
    "   <td>Rincón del Atuel</td>\n",
    "  </tr>\n",
    "  <tr>\n",
    "   <td>San Rafael</td>\n",
    "   <td>0</td>\n",
    "   <td>72.7</td>\n",
    "   <td>137</td>\n",
    "   <td>55</td>\n",
    "   <td>74.3</td>\n",
    "   <td>36.6</td>\n",
    "   <td>23</td>\n",
    "   <td>8.7</td>\n",
    "   <td>54.2</td>\n",
    "   <td>88.9</td>\n",
    "   <td>37.6</td>\n",
    "  </tr>\n",
    " </tbody>\n",
    "</table>\n",
    "\n",
    "##### Distancias desde otros distritos\n",
    "\n",
    "<table>\n",
    " <tbody>\n",
    "  <tr>\n",
    "   <td></td>\n",
    "   <td>San Rafael</td>\n",
    "   <td>El Nihuil</td>\n",
    "   <td>El sosneado</td>\n",
    "   <td>Villa Atuel</td>\n",
    "   <td>Jaime Prats</td>\n",
    "   <td>Las Malvinas</td>\n",
    "   <td>Salto de las Rosas</td>\n",
    "   <td>Rama Caida</td>\n",
    "   <td>Monte Coman</td>\n",
    "   <td>Gral. Alvear</td>\n",
    "   <td>Rincón del Atuel</td>\n",
    "  </tr>\n",
    "  <tr>\n",
    "   <td>El Nihuil</td>\n",
    "   <td>72.5</td>\n",
    "   <td>0</td>\n",
    "   <td>108</td>\n",
    "   <td>120</td>\n",
    "   <td>135</td>\n",
    "   <td>97.4</td>\n",
    "   <td>84</td>\n",
    "   <td>69.7</td>\n",
    "   <td>122</td>\n",
    "   <td>150</td>\n",
    "   <td>35</td>\n",
    "  </tr>\n",
    "  <tr>\n",
    "   <td>El Sosneado</td>\n",
    "   <td>137</td>\n",
    "   <td>108</td>\n",
    "   <td>0</td>\n",
    "   <td>184</td>\n",
    "   <td>199</td>\n",
    "   <td>162</td>\n",
    "   <td>148</td>\n",
    "   <td>134</td>\n",
    "   <td>186</td>\n",
    "   <td>214</td>\n",
    "   <td>99.1</td>\n",
    "  </tr>\n",
    "  <tr>\n",
    "   <td>Villa Atuel</td>\n",
    "   <td>54.3</td>\n",
    "   <td>120</td>\n",
    "   <td>184</td>\n",
    "   <td>0</td>\n",
    "   <td>16.7</td>\n",
    "   <td>45.2</td>\n",
    "   <td>35.6</td>\n",
    "   <td>54.5</td>\n",
    "   <td>47.1</td>\n",
    "   <td>31.5</td>\n",
    "   <td>84.7</td>\n",
    "  </tr>\n",
    "  <tr>\n",
    "   <td>Jaime Prats</td>\n",
    "   <td>70</td>\n",
    "   <td>136</td>\n",
    "   <td>200</td>\n",
    "   <td>16.9</td>\n",
    "   <td>0</td>\n",
    "   <td>60.8</td>\n",
    "   <td>51.3</td>\n",
    "   <td>70.2</td>\n",
    "   <td>41.2</td>\n",
    "   <td>15</td>\n",
    "   <td>100</td>\n",
    "  </tr>\n",
    "  <tr>\n",
    "   <td>Las Malvinas</td>\n",
    "   <td>36.6</td>\n",
    "   <td>97.4</td>\n",
    "   <td>162</td>\n",
    "   <td>45.2</td>\n",
    "   <td>60.8</td>\n",
    "   <td>0</td>\n",
    "   <td>18.8</td>\n",
    "   <td>29.7</td>\n",
    "   <td>57.8</td>\n",
    "   <td>75.4</td>\n",
    "   <td>62.6</td>\n",
    "  </tr>\n",
    "  <tr>\n",
    "   <td>Salto de las Rosas</td>\n",
    "   <td>23</td>\n",
    "   <td>84</td>\n",
    "   <td>148</td>\n",
    "   <td>35.6</td>\n",
    "   <td>51.3</td>\n",
    "   <td>18.8</td>\n",
    "   <td>0</td>\n",
    "   <td>18.9</td>\n",
    "   <td>43</td>\n",
    "   <td>65.8</td>\n",
    "   <td>49.1</td>\n",
    "  </tr>\n",
    "  <tr>\n",
    "   <td>Rama Caida</td>\n",
    "   <td>8.7</td>\n",
    "   <td>68.7</td>\n",
    "   <td>134</td>\n",
    "   <td>54.5</td>\n",
    "   <td>70.2</td>\n",
    "   <td>29.2</td>\n",
    "   <td>18.9</td>\n",
    "   <td>0</td>\n",
    "   <td>56.4</td>\n",
    "   <td>84.7</td>\n",
    "   <td>34.7</td>\n",
    "  </tr>\n",
    "  <tr>\n",
    "   <td>Monte Coman</td>\n",
    "   <td>54.2</td>\n",
    "   <td>122</td>\n",
    "   <td>186</td>\n",
    "   <td>47.1</td>\n",
    "   <td>41.2</td>\n",
    "   <td>57.8</td>\n",
    "   <td>43</td>\n",
    "   <td>56.4</td>\n",
    "   <td>0</td>\n",
    "   <td>48</td>\n",
    "   <td>86.5</td>\n",
    "  </tr>\n",
    "  <tr>\n",
    "   <td>Gral. Alvear</td>\n",
    "   <td>88.9</td>\n",
    "   <td>150</td>\n",
    "   <td>214</td>\n",
    "   <td>31.5</td>\n",
    "   <td>15</td>\n",
    "   <td>75.4</td>\n",
    "   <td>65.8</td>\n",
    "   <td>84.7</td>\n",
    "   <td>48</td>\n",
    "   <td>0</td>\n",
    "   <td>115</td>\n",
    "\n",
    "  </tr>\n",
    "  <tr>\n",
    "   <td>Rincón del Atuel</td>\n",
    "   <td>37.6</td>\n",
    "   <td>35</td>\n",
    "   <td>99.1</td>\n",
    "   <td>84.7</td>\n",
    "   <td>100</td>\n",
    "   <td>62.6</td>\n",
    "   <td>49.1</td>\n",
    "   <td>34.7</td>\n",
    "   <td>86.5</td>\n",
    "   <td>115</td>\n",
    "   <td>0</td>\n",
    "  </tr>\n",
    " </tbody>\n",
    "</table>"
   ]
  },
  {
   "cell_type": "markdown",
   "metadata": {},
   "source": [
    "### Adaptación\n",
    "\n",
    "- Definir como se calculará la adaptación de un individuo\n",
    "- ¿Existen estados que deben ser penalizados?\n"
   ]
  },
  {
   "cell_type": "markdown",
   "metadata": {},
   "source": [
    "## Resolución\n",
    "\n",
    "### Objetivo\n",
    "\n",
    "Recordemos que el objetivo del problema es, dada una lista de ciudades y las distancias entre cada par de ellas, encontrar cuál es la <strong>ruta más corta</strong> posible que visita cada ciudad exactamente una vez y que, al finalizar, regresa a la ciudad origen."
   ]
  },
  {
   "cell_type": "code",
   "execution_count": 1,
   "metadata": {},
   "outputs": [],
   "source": [
    "import numpy as np\n",
    "import random\n",
    "import copy\n",
    "import sys\n",
    "from functools import reduce\n",
    "import matplotlib\n",
    "import matplotlib.pyplot as plt\n",
    "\n",
    "# numpy.set_printoptions(threshold=sys.maxsize)"
   ]
  },
  {
   "cell_type": "code",
   "execution_count": 2,
   "metadata": {},
   "outputs": [
    {
     "name": "stdout",
     "output_type": "stream",
     "text": [
      "Array costos de distancias: \n",
      "\n",
      "[[  0.   72.7 136.7  59.1  70.1  36.4  23.    8.7  54.2  85.7  37.7]\n",
      " [ 72.7   0.  107.8 120.1 135.2  97.7  84.2  69.8 122.  150.   35. ]\n",
      " [136.7 107.8   0.  184.  199.  162.  148.  134.  186.  214.   99.1]\n",
      " [ 59.1 120.1 184.    0.   16.7  45.2  35.6  54.5  47.1  31.4  84.7]\n",
      " [ 70.1 135.2 199.   16.7   0.   60.8  51.3  70.2  41.2  15.  100. ]\n",
      " [ 36.4  97.7 162.   45.2  60.8   0.   18.8  29.7  57.8  75.4  62.6]\n",
      " [ 23.   84.2 148.   35.6  51.3  18.8   0.   18.9  43.   65.8  49.1]\n",
      " [  8.7  69.8 134.   54.5  70.2  29.7  18.9   0.   56.4  84.7  34.7]\n",
      " [ 54.2 122.  186.   47.1  41.2  57.8  43.   56.4   0.   48.   86.5]\n",
      " [ 85.7 150.  214.   31.4  15.   75.4  65.8  84.7  48.    0.  115. ]\n",
      " [ 37.6  35.   99.1  84.7 100.   62.6  49.1  34.7  86.5 115.    0. ]]\n"
     ]
    }
   ],
   "source": [
    "costos = [[0,72.7,136.7,59.1,70.1,36.4,23,8.7,54.2,85.7,37.7],\n",
    "              [72.7,0,107.8,120.1,135.2,97.7,84.2,69.8,122,150,35],\n",
    "              [136.7,107.8,0,184,199,162,148,134,186,214,99.1],\n",
    "              [59.1,120.1,184,0,16.7,45.2,35.6,54.5,47.1,31.4,84.7],\n",
    "              [70.1, 135.2, 199, 16.7, 0, 60.8, 51.3, 70.2, 41.2, 15, 100],\n",
    "              [36.4, 97.7, 162, 45.2, 60.8, 0, 18.8, 29.7, 57.8, 75.4, 62.6],\n",
    "              [23,84.2,148,35.6,51.3,18.8,0,18.9,43,65.8,49.1],\n",
    "              [8.7,69.8,134,54.5,70.2,29.7,18.9,0,56.4,84.7,34.7],\n",
    "              [54.2,122,186,47.1,41.2,57.8,43,56.4,0,48,86.5],\n",
    "              [85.7,150,214,31.4,15,75.4,65.8,84.7,48,0,115],\n",
    "              [37.6,35,99.1,84.7,100,62.6,49.1,34.7,86.5,115,0]]\n",
    "\n",
    "costos = np.array(costos)\n",
    "print(\"Array costos de distancias: \\n\")\n",
    "print(costos)\n"
   ]
  },
  {
   "cell_type": "code",
   "execution_count": 3,
   "metadata": {},
   "outputs": [],
   "source": [
    "nombre_localidades = [\"San Rafael\", \"El Nihuil\", \"El sosneado\", \"Villa Atuel\", \"Jaime Prats\", \"Las Malvinas\", \n",
    "                      \"Salto de las Rosas\", \"Rama Caida\", \"Monte Coman\", \"Gral. Alvear\", \"Rincón del Atuel\"]\n",
    "\n",
    "def obtener_localidades(ruta):\n",
    "    localidades = []\n",
    "    for indice_loc in ruta:\n",
    "        localidades.append(nombre_localidades[indice_loc])\n",
    "    return localidades"
   ]
  },
  {
   "cell_type": "markdown",
   "metadata": {},
   "source": [
    "### Funcion de adaptación - valores de costos\n",
    "\n",
    "El valor de costo alto significa baja adapatacion. No podemos usar el valor del costo de la ruta directamente como valor de adaptacion."
   ]
  },
  {
   "cell_type": "code",
   "execution_count": 4,
   "metadata": {},
   "outputs": [],
   "source": [
    "def obtener_costo_individuo(individuo_ruta):  \n",
    "    ultima_localidad = individuo_ruta[0]\n",
    "    costo_ruta = 0\n",
    "    \n",
    "    for localidad_actual in individuo_ruta:\n",
    "        costo_ruta += costos[ultima_localidad][localidad_actual]\n",
    "        ultima_localidad = localidad_actual\n",
    "    return costo_ruta\n",
    "        \n",
    "# Función de adaptacion - fitness function \n",
    "def obtener_adaptacion(poblacion):\n",
    "    adaptacion = []\n",
    "    for individuo_ruta in poblacion:\n",
    "        adaptacion.append(obtener_costo_individuo(individuo_ruta))\n",
    "    return adaptacion"
   ]
  },
  {
   "cell_type": "markdown",
   "metadata": {},
   "source": [
    "## Selección\n",
    "\n",
    "Usamos el metodo de seleccion de ruleta donde los individuos que tengan una probabilidad más alta, van a tener más chances de ser seleccionados, pero no necesariamente.\n",
    "\n",
    "Cuando los valores de adaptacion estan representados por la lista, lo que nos permite obtener la probabilidad cumulativa que vamos guardando en una lista.\n",
    "\n",
    "La declaración \"lista_prob_acum[-1] = 1,0\" compensa los errores de redondeo."
   ]
  },
  {
   "cell_type": "code",
   "execution_count": 5,
   "metadata": {},
   "outputs": [],
   "source": [
    "import operator\n",
    "\n",
    "def obtener_prob_adaptacion(lista_adaptacion):\n",
    "    \n",
    "    sumatoria_adaptacion = sum(lista_adaptacion)\n",
    "    probabilidad = []\n",
    "    \n",
    "    for adaptacion in lista_adaptacion:\n",
    "        probabilidad.append(adaptacion / sumatoria_adaptacion)\n",
    "        \n",
    "    return probabilidad\n",
    "        \n",
    "        \n",
    "\n",
    "def obtener_probabilidad_acumulada(lista_adaptacion):\n",
    "    \n",
    "    sumatoria_adaptacion = sum(lista_adaptacion)\n",
    "    \n",
    "    lista_probabilidad = obtener_prob_adaptacion(lista_adaptacion, sumatoria_adaptacion)\n",
    "    \n",
    "    prob_acumulada = 0\n",
    "    lista_prob_acumulada = []\n",
    "    for probabilidad in lista_probabilidad:\n",
    "        lista_prob_acumulada.append( prob_acumulada + probabilidad )\n",
    "        prob_acumulada += probabilidad\n",
    "    lista_prob_acumulada[-1] = 1.0 \n"
   ]
  },
  {
   "cell_type": "markdown",
   "metadata": {},
   "source": [
    "Cuando la lista de probabilidad acumulada es proporcionada (lista_prob_acum), podemos seleccionar cromosomas como se muestra a continuación utilizando la búsqueda secuencial.\n",
    "\n",
    "Se puede utilizar la búsqueda binaria para un código más rápido. La función random del módulo random devuelve el siguiente número aleatorio de punto flotante en el rango [0.0, 1.0)."
   ]
  },
  {
   "cell_type": "code",
   "execution_count": 6,
   "metadata": {},
   "outputs": [],
   "source": [
    "def seleccionar_padres(poblacion, adaptacion, cantidad_padres):\n",
    "    \n",
    "    tam_poblacion = len(poblacion)\n",
    "    probabilidad = obtener_prob_adaptacion(adaptacion)        \n",
    "    rango = range(tam_poblacion)\n",
    "    \n",
    "    indices = np.random.choice(rango, size=cantidad_padres, replace=False, p=probabilidad)\n",
    "    \n",
    "    padres = [poblacion[i] for i in indices]\n",
    "    return np.array(padres)      # Devolvemos los padres en forma de array de numpy"
   ]
  },
  {
   "cell_type": "markdown",
   "metadata": {},
   "source": [
    "## Cruza\n",
    "\n",
    "En el caso del problema del viajante, realizamos una cruza por medio de la recombinación de cromosomas ordenados para evitar soluciones inviables."
   ]
  },
  {
   "cell_type": "code",
   "execution_count": 7,
   "metadata": {},
   "outputs": [],
   "source": [
    "def realizar_cruza(padres, tam_descendencia):\n",
    "    \n",
    "    hijos = np.empty((tam_descendencia, padres.shape[1]))\n",
    "    punto_cruza = np.uint8(padres.shape[0] / 2)\n",
    "    \n",
    "    for k in range(tam_descendencia):\n",
    "\n",
    "        # Indices padres\n",
    "        idx_p1 = k % padres.shape[0]\n",
    "        idx_p2 = (k + 1) % padres.shape[0]\n",
    "        \n",
    "        # Generamos el hijo con la primer mitad de un padre y la segunda del otro\n",
    "        hijos[k, 0:punto_cruza] = padres[idx_p1, 0:punto_cruza]\n",
    "        hijos[k, punto_cruza:] = padres[idx_p2, punto_cruza:]\n",
    "\n",
    "    return hijos        # Devolvemos el array de hijos dados los padres"
   ]
  },
  {
   "cell_type": "markdown",
   "metadata": {},
   "source": [
    "## Mutación\n",
    "\n",
    "El ejemplo de mutación de intercambio se da a continuación. El siguiente código utiliza la asignación paralela. "
   ]
  },
  {
   "cell_type": "code",
   "execution_count": 8,
   "metadata": {},
   "outputs": [],
   "source": [
    "def realizar_mutacion(hijos):\n",
    "    \n",
    "    for indice in range(hijos.shape[0]):\n",
    "        while True:\n",
    "            posicion1 = random.randint(0, len(hijos[indice, :]) - 1 )\n",
    "            posicion2 = random.randint(0, len(hijos[indice, :]) - 1 )\n",
    "            if posicion1 != posicion2:\n",
    "                break\n",
    "        hijos[indice, posicion1], hijos[indice, posicion2] = hijos[indice, posicion2], hijos[indice, posicion1]\n",
    "        \n",
    "    return hijos         # Devuelve el array de hijos mutados"
   ]
  },
  {
   "cell_type": "markdown",
   "metadata": {},
   "source": [
    "# Algoritmo"
   ]
  },
  {
   "cell_type": "markdown",
   "metadata": {},
   "source": [
    "## Codificación del problema\n",
    "\n",
    "Para este problema, los individuos (rutas aleatorizadas) estarán compuestos por 10 genes donde cada uno de ellos representará el valor del indice de una localidad en la lista \"costos\". El mismo será utilizado para trabajar los costos de cada uno de los individuos.\n",
    "\n",
    "[$L_{1}$, $L_{2}$, $L_{3}$, $L_{4}$, $L_{5}$, $L_{6}$, $L_{7}$, $L_{8}$, $L_{9}$, $L_{10}$]"
   ]
  },
  {
   "cell_type": "code",
   "execution_count": 9,
   "metadata": {},
   "outputs": [
    {
     "name": "stdout",
     "output_type": "stream",
     "text": [
      "Población inicial:  [[ 2  3  8 ...  1 10  7]\n",
      " [ 7  1  9 ...  2  3  5]\n",
      " [10  3  2 ...  1  6  9]\n",
      " ...\n",
      " [10  6  9 ...  7  3  2]\n",
      " [ 8  4  7 ...  3  9  6]\n",
      " [ 2 10  3 ...  8  6  4]]\n"
     ]
    }
   ],
   "source": [
    "poblacion = []\n",
    "cant_genes = 10\n",
    "cant_individuos = 10000\n",
    "cant_generaciones = 100\n",
    "cantidad_padres = 50\n",
    "\n",
    "# Elaboramos cromosomas que seran aleatorizados para generar los individuos\n",
    "crom_ejemplo = list(range(1, cant_genes + 1))\n",
    "\n",
    "for i in range(cant_individuos):\n",
    "    crom_nuevo = copy.copy(crom_ejemplo)\n",
    "    random.shuffle(crom_nuevo)\n",
    "    poblacion.append(crom_nuevo)\n",
    "\n",
    "# Ejes del gráfico\n",
    "eje_gen = []\n",
    "eje_adap = []\n",
    "\n",
    "poblacion = np.array(poblacion)\n",
    "\n",
    "print(\"Población inicial: \", poblacion)"
   ]
  },
  {
   "cell_type": "code",
   "execution_count": 10,
   "metadata": {},
   "outputs": [],
   "source": [
    "for generacion in range(cant_generaciones):\n",
    "    \n",
    "    adaptacion = obtener_adaptacion(poblacion)\n",
    "    \n",
    "    padres = seleccionar_padres(poblacion, adaptacion, cantidad_padres)\n",
    "    \n",
    "    tam_descendencia = len(poblacion) - padres.shape[0]\n",
    "    \n",
    "    hijos = realizar_cruza(padres, tam_descendencia)    \n",
    "    hijos_mutados = realizar_mutacion(hijos)\n",
    "    \n",
    "    # Creamos una nueva poblacion a partir de los padres y de los hijos    \n",
    "    poblacion[0:padres.shape[0], :] = padres\n",
    "    poblacion[padres.shape[0]:, :] = hijos_mutados\n",
    "    \n",
    "    eje_adap.append(max(adaptacion))\n",
    "    eje_gen.append(generacion)\n",
    "\n"
   ]
  },
  {
   "cell_type": "code",
   "execution_count": 11,
   "metadata": {},
   "outputs": [
    {
     "name": "stdout",
     "output_type": "stream",
     "text": [
      "Mejor ruta:  [ 6  1  3 10  9  2  4  7  8  5]\n",
      "['Salto de las Rosas', 'El Nihuil', 'Villa Atuel', 'Rincón del Atuel', 'Gral. Alvear', 'El sosneado', 'Jaime Prats', 'Rama Caida', 'Monte Coman', 'Las Malvinas']\n",
      "Costo de la ruta:  1001.4\n"
     ]
    }
   ],
   "source": [
    "# Obtener la mejor solución\n",
    "adaptacion = obtener_adaptacion(poblacion)\n",
    "mejor_adap_index = np.where(adaptacion == np.max(adaptacion))\n",
    "\n",
    "mejor_ruta = poblacion[mejor_adap_index[0][0], :]\n",
    "localidades = obtener_localidades(mejor_ruta)\n",
    "\n",
    "print(\"Mejor ruta: \", poblacion[mejor_adap_index[0][0], :])\n",
    "print(localidades)\n",
    "print(\"Costo de la ruta: \", adaptacion[mejor_adap_index[0][0]])"
   ]
  },
  {
   "cell_type": "code",
   "execution_count": 12,
   "metadata": {},
   "outputs": [
    {
     "data": {
      "image/png": "[encoded data removed]",
      "text/plain": [
       "<Figure size 432x288 with 1 Axes>"
      ]
     },
     "metadata": {
      "needs_background": "light"
     },
     "output_type": "display_data"
    }
   ],
   "source": [
    "fig, ax = plt.subplots()\n",
    "ax.plot(eje_gen, eje_adap, 'b')\n",
    "ax.set_ylabel('Costo ruta')\n",
    "ax.set_xlabel('Generacion')\n",
    "plt.show()"
   ]
  }
 ],
 "metadata": {
  "kernelspec": {
   "display_name": "Python 3 (ipykernel)",
   "language": "python",
   "name": "python3"
  },
  "language_info": {
   "codemirror_mode": {
    "name": "ipython",
    "version": 3
   },
   "file_extension": ".py",
   "mimetype": "text/x-python",
   "name": "python",
   "nbconvert_exporter": "python",
   "pygments_lexer": "ipython3",
   "version": "3.7.11"
  }
 },
 "nbformat": 4,
 "nbformat_minor": 4
}
