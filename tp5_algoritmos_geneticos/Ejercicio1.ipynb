{
 "cells": [
  {
   "cell_type": "markdown",
   "metadata": {},
   "source": [
    "## Diseño aerodinámico\n",
    "\n",
    "Existen cuatro variables que representan valores de parámetros para el diseño de el ala de una aeronave. Cada uno de estos parámetros puede tomar un valor entre 0 y 63.\n",
    "\n",
    "El modelo aerodinámico dice que la elevación del ala está dada por la formula:\n",
    "\n",
    "Elevación = (A - B)² + (C - D)² - (A-30)³ - (C-40)³\n",
    "\n",
    "Encontrar los valores de parámetros que maximicen la elevación del ala."
   ]
  },
  {
   "cell_type": "code",
   "execution_count": 1,
   "metadata": {},
   "outputs": [],
   "source": [
    "import numpy as np\n",
    "import random\n",
    "import matplotlib\n",
    "import matplotlib.pyplot as plt"
   ]
  },
  {
   "cell_type": "markdown",
   "metadata": {},
   "source": [
    "## Codificación\n",
    "\n",
    "- Definir como se codificará el problema\n",
    "\n",
    "Para este problema el cromosoma estará compuesto por 4 genes cada uno de ellos representará un parámetro\n",
    "\n",
    "[A B C D]"
   ]
  },
  {
   "cell_type": "markdown",
   "metadata": {},
   "source": [
    "## Adaptación\n",
    "\n",
    "- Definir como se calculará la adaptación de un individuo\n",
    "- ¿Existen estados que deben ser penalizados?\n",
    "\n",
    "Se calculará el valor de la elevacion en base a los individuos de la poblacion y luego se penalizan o no en base al valor de elevación obtenido por medio de la selección por ranking.\n"
   ]
  },
  {
   "cell_type": "code",
   "execution_count": 2,
   "metadata": {},
   "outputs": [],
   "source": [
    "def funcion_adaptacion(poblacion):\n",
    "    adaptacion = []\n",
    "    for ind in poblacion:\n",
    "        adaptacion.append(\n",
    "            ((ind[0] - ind[1]) ** 2) +\n",
    "            ((ind[2] - ind[3]) ** 2) -\n",
    "            ((ind[0] - 30) ** 3) -\n",
    "            ((ind[2] - 40) ** 3)\n",
    "        )\n",
    "    return adaptacion"
   ]
  },
  {
   "cell_type": "markdown",
   "metadata": {},
   "source": [
    "## Selección\n",
    "\n",
    " Ordena los valores de adaptación basándose en el valor que se obtuvo en la función de elevación. Ordena los valores con números enteros. \n",
    " \n",
    " Calculamos la probabilidad que tiene cada individuo, basandonos en la \"SELECCION BASADA EN RANKING\".\n",
    " \n",
    " Seleccionamos el/los padres para la cruza de la próxima generación, basándonos en la probabilidad de cada individuo."
   ]
  },
  {
   "cell_type": "code",
   "execution_count": 3,
   "metadata": {},
   "outputs": [],
   "source": [
    "def rank(adaptacion,poblacion):\n",
    "    matriz_adaptacion = np.array(adaptacion)\n",
    "    index = matriz_adaptacion.argsort()\n",
    "    return (np.arange(len(matriz_adaptacion))[index.argsort()]).tolist()\n",
    " \n",
    "\n",
    "def probabilidad_ranking(poblacion, adaptacion):\n",
    "    probabilidad = []\n",
    "    ranking = rank(adaptacion, poblacion)\n",
    "    for i in range(len(poblacion)):\n",
    "        probabilidad.append(\n",
    "            ((ranking[i]) / sum(ranking))\n",
    "        )\n",
    "    return probabilidad\n",
    " \n",
    "\n",
    "def seleccionar_padres(poblacion,adaptacion,cantidad_padres):\n",
    "    tam_poblacion = len(poblacion)\n",
    "    probabilidad = probabilidad_ranking(poblacion, adaptacion)        \n",
    "    \n",
    "    rango = range(tam_poblacion)\n",
    "    indices = np.random.choice(rango,size=cantidad_padres, replace=False, p=probabilidad)\n",
    "    \n",
    "    # Devolvemos los padres en forma de lista\n",
    "    padres = [poblacion[i] for i in indices]\n",
    "    return np.array(padres)\n"
   ]
  },
  {
   "cell_type": "markdown",
   "metadata": {},
   "source": [
    "## Cruza"
   ]
  },
  {
   "cell_type": "code",
   "execution_count": 4,
   "metadata": {},
   "outputs": [],
   "source": [
    "def cruzamiento(padres, tam_descendencia):\n",
    "    \n",
    "    hijos = np.empty((tam_descendencia, padres.shape[1]))\n",
    "    punto_cruza = np.uint8(padres.shape[0] / 2)\n",
    "    \n",
    "    for k in range(tam_descendencia):\n",
    "\n",
    "        # Indices padres\n",
    "        idx_p1 = k % padres.shape[0]\n",
    "        idx_p2 = (k + 1) % padres.shape[0]\n",
    "        \n",
    "        # Generamos el hijo con la primer mitad de un padre y la segunda del otro\n",
    "        hijos[k, 0:punto_cruza] = padres[idx_p1, 0:punto_cruza]\n",
    "        hijos[k, punto_cruza:] = padres[idx_p2, punto_cruza:]\n",
    "\n",
    "    return hijos"
   ]
  },
  {
   "cell_type": "markdown",
   "metadata": {},
   "source": [
    "## Mutación"
   ]
  },
  {
   "cell_type": "code",
   "execution_count": 5,
   "metadata": {},
   "outputs": [],
   "source": [
    "def mutacion(hijos):\n",
    "    for indice in range(hijos.shape[0]):\n",
    "        valor_aleatorio = np.random.uniform(-500, 500)\n",
    "        # Sumar el valor aleatorio a uno de los genes\n",
    "        hijos[indice, np.random.randint(low=0, high=(hijos.shape[1]-1))] = hijos[indice, hijos.shape[1]-1] + valor_aleatorio\n",
    "    #Devolver lista de hijos mutados\n",
    "    return hijos"
   ]
  },
  {
   "cell_type": "markdown",
   "metadata": {},
   "source": [
    "# Algoritmo"
   ]
  },
  {
   "cell_type": "code",
   "execution_count": 7,
   "metadata": {},
   "outputs": [
    {
     "name": "stdout",
     "output_type": "stream",
     "text": [
      "[19643.694690999993, 71371255.05162899, 71574974.78691916, 103765638.75404125, 103765638.75404125, 160193381.5348731, 103720426.96365292, 135621527.00158226, 120158157.0477621, 120158157.0477621, 173597085.21763352, 173597085.21763352, 174897734.65916976, 194347893.03788984, 194347893.03788984, 195099564.73167393, 194714939.26800573, 194714939.26800573, 195153276.5951503, 142527580.09796953, 142527580.09796953, 142597744.96538556, 142597744.96538556, 190628690.437142, 198152910.1919468, 198152910.1919468, 203876915.87620637, 190804982.68385607, 190752881.72058207, 190804569.23186165, 202172699.18542, 206966221.68947273, 190652373.0422164, 190858552.08577985, 190858552.08577985, 190858552.08577985, 184098778.71171087, 183475152.36848357, 94297470.61925384, 168680153.79420313, 93136765.93262926, 138535594.11420894, 85205738.09295195, 92843210.30911128, 140269743.3107009, 140269743.3107009, 140472711.8324414, 159550414.2519777, 160044049.9244248, 160044049.9244248, 159569522.82030264, 160180016.7584502, 110409251.6202277, 110278467.61468948, 123524796.96510285, 123524796.96510285, 123524796.96510285, 137602037.25121427, 123518944.07078514, 138241147.96547613, 123545353.8015097, 54531406.09903109, 111217974.4838605, 111217974.4838605, 123758661.4708055, 130129419.61173736, 177396302.73460037, 177396302.73460037, 178029446.250037, 161529730.4738416, 205119264.3155893, 205662376.97214478, 205662376.97214478, 205802030.25272578, 205493802.90116686, 205797592.39146173, 205891401.62770057, 205950583.53922266, 154172513.63600916, 122930567.39421602, 181189961.9267645, 140842236.15808988, 140842236.15808988, 140863863.83084655, 117436593.21501881, 109047980.68480265, 108962771.8754501, 108962771.8754501, 149556152.38955712, 69611380.74845947, 69380358.67623611, 85151722.09378996, 103577722.8428182, 103577722.8428182, 120769567.8212446, 105062574.59832907, 121938795.6107588, 95646263.02067809, 62067434.449990995, 85158656.65093409]\n",
      "[0, 1, 2, 3, 4, 5, 6, 7, 8, 9, 10, 11, 12, 13, 14, 15, 16, 17, 18, 19, 20, 21, 22, 23, 24, 25, 26, 27, 28, 29, 30, 31, 32, 33, 34, 35, 36, 37, 38, 39, 40, 41, 42, 43, 44, 45, 46, 47, 48, 49, 50, 51, 52, 53, 54, 55, 56, 57, 58, 59, 60, 61, 62, 63, 64, 65, 66, 67, 68, 69, 70, 71, 72, 73, 74, 75, 76, 77, 78, 79, 80, 81, 82, 83, 84, 85, 86, 87, 88, 89, 90, 91, 92, 93, 94, 95, 96, 97, 98, 99]\n"
     ]
    }
   ],
   "source": [
    "poblacion = []\n",
    "cant_individuos = 10\n",
    "cant_genes = 4\n",
    "cant_generaciones = 100\n",
    "cantidad_padres = 2\n",
    "\n",
    "nueva_poblacion = np.empty((cant_individuos, cant_genes))\n",
    "\n",
    "for i in range (cant_individuos):\n",
    "    \n",
    "    individuo = []\n",
    "    for j in range(cant_genes):\n",
    "        individuo.append(round(random.uniform(0, 63),2))\n",
    "\n",
    "    poblacion.append(individuo)\n",
    "\n",
    "\n",
    "# Ejes del gráfico\n",
    "eje_gen = []\n",
    "eje_adap = []\n",
    "\n",
    "for generacion in range(cant_generaciones):\n",
    "    \n",
    "    adaptacion = funcion_adaptacion(poblacion)\n",
    "    #print(\"adaptacion\", adaptacion)\n",
    "      \n",
    "    padres = seleccionar_padres(poblacion,adaptacion,cantidad_padres)\n",
    "    #print(\"padres\", padres)\n",
    "    \n",
    "    tam_descendencia = len(poblacion) - padres.shape[0]\n",
    "    \n",
    "    hijos = cruzamiento(padres, tam_descendencia)\n",
    "    \n",
    "    hijos_mutados = mutacion(hijos)\n",
    "    \n",
    "    # Crear nueva población basada en los padres y los hijos\n",
    "    nueva_poblacion[0:padres.shape[0], :] = padres\n",
    "    nueva_poblacion[padres.shape[0]:, :] = hijos_mutados\n",
    "\n",
    "    poblacion = nueva_poblacion.tolist()\n",
    "    \n",
    "    eje_adap.append(max(adaptacion))\n",
    "    eje_gen.append(generacion)\n",
    "    \n",
    "print(eje_adap)\n",
    "print(eje_gen)"
   ]
  },
  {
   "cell_type": "code",
   "execution_count": 8,
   "metadata": {},
   "outputs": [
    {
     "data": {
      "image/png": "[encoded data removed]",
      "text/plain": [
       "<Figure size 432x288 with 1 Axes>"
      ]
     },
     "metadata": {
      "needs_background": "light"
     },
     "output_type": "display_data"
    }
   ],
   "source": [
    "#Gráfico\n",
    "fig, ax = plt.subplots()\n",
    "ax.plot(eje_gen, eje_adap, 'b')\n",
    "ax.set_ylabel('Fitness')\n",
    "ax.set_xlabel('Generation')\n",
    "plt.show()"
   ]
  },
  {
   "cell_type": "code",
   "execution_count": null,
   "metadata": {},
   "outputs": [],
   "source": [
    "\n"
   ]
  },
  {
   "cell_type": "code",
   "execution_count": null,
   "metadata": {},
   "outputs": [],
   "source": []
  }
 ],
 "metadata": {
  "kernelspec": {
   "display_name": "Python 3 (ipykernel)",
   "language": "python",
   "name": "python3"
  },
  "language_info": {
   "codemirror_mode": {
    "name": "ipython",
    "version": 3
   },
   "file_extension": ".py",
   "mimetype": "text/x-python",
   "name": "python",
   "nbconvert_exporter": "python",
   "pygments_lexer": "ipython3",
   "version": "3.7.11"
  }
 },
 "nbformat": 4,
 "nbformat_minor": 4
}
