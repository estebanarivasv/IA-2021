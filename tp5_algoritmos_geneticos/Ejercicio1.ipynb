{
 "cells": [
  {
   "cell_type": "markdown",
   "metadata": {},
   "source": [
    "## Diseño aerodinámico\n",
    "\n",
    "Existen cuatro variables que representan valores de parámetros para el diseño de el ala de una aeronave. Cada uno de estos parámetros puede tomar un valor entre 0 y 63.\n",
    "\n",
    "El modelo aerodinámico dice que la elevación del ala está dada por la formula:\n",
    "\n",
    "Elevación = (A - B)² + (C - D)² - (A-30)³ - (C-40)³\n",
    "\n",
    "Encontrar los valores de parámetros que maximicen la elevación del ala."
   ]
  },
  {
   "cell_type": "code",
   "execution_count": 1,
   "metadata": {},
   "outputs": [],
   "source": [
    "import numpy\n",
    "import matplotlib\n",
    "import matplotlib.pyplot as plt"
   ]
  },
  {
   "cell_type": "markdown",
   "metadata": {},
   "source": [
    "## Codificación\n",
    "\n",
    "- Definir como se codificará el problema\n",
    "\n",
    "Para este problema el cromosoma estará compuesto por 4 genes cada uno de ellos representará un parámetro\n",
    "\n",
    "[A B C D]"
   ]
  },
  {
   "cell_type": "markdown",
   "metadata": {},
   "source": [
    "## Adaptación\n",
    "\n",
    "- Definir como se calculará la adaptación de un individuo\n",
    "- ¿Existen estados que deben ser penalizados?\n"
   ]
  },
  {
   "cell_type": "code",
   "execution_count": 2,
   "metadata": {},
   "outputs": [],
   "source": [
    "def obtener_val_adaptacion(poblacion):\n",
    "    adaptacion = []\n",
    "    # Para cada individuo en la población...\n",
    "    for ind in poblacion:\n",
    "        adaptacion.append( ( (ind[0]-ind[1])**2 + (ind[2]-ind[3])**2 -(ind[0]-30)**3 - (ind[2]-40)**3) )\n",
    "    return adaptacion"
   ]
  },
  {
   "cell_type": "markdown",
   "metadata": {},
   "source": [
    "## Selección"
   ]
  },
  {
   "cell_type": "code",
   "execution_count": 3,
   "metadata": {},
   "outputs": [],
   "source": [
    "# Recibe la lista con los entrenamientos de cada hijo y los ordena con numeros enteros ej: [1,2,3,4,5,6] basandose en el valor\n",
    "# que se obtuvo en la adaptacion.\n",
    "def rank(fitness,population):\n",
    "    adaptation_function(population)\n",
    "    array = np.array(fitness)\n",
    "    temp = array.argsort()\n",
    "    return (np.arange(len(array))[temp.argsort()]).tolist()\n",
    " \n",
    " \n",
    "# Calculamos la probabilidad que tiene cada hijo, basandonos en la \"SELECCION BASADA EN RANKING\".\n",
    "def probability(population, fitness):\n",
    "    probability_list = []\n",
    "    ranking = rank(fitness, population)\n",
    "    for i in range(len(population)):\n",
    "        probability_list.append(\n",
    "            ((ranking[i]) / sum(ranking))\n",
    "        )\n",
    "    return probability_list\n",
    " \n",
    " \n",
    "# Seleccionamos el/los padres de la lista de la poblacion, basandonos en la \n",
    "# probabilidad de cada individuo.\n",
    "def select_parents(parents_num, population_len, probability_list):\n",
    "    # population, weights = probability_list, k = parents_num\n",
    "    population_aux = range(population_len)\n",
    "    print(probability_list)\n",
    "    parent_indexs = np.random.choice(population_aux,size=parents_num, replace=False, p=probability_list)\n",
    "    return [population[i] for i in parent_indexs]"
   ]
  },
  {
   "cell_type": "markdown",
   "metadata": {},
   "source": [
    "## Cruza"
   ]
  },
  {
   "cell_type": "code",
   "execution_count": 4,
   "metadata": {},
   "outputs": [],
   "source": [
    "def crossover(parents):\n",
    "    parents = np.array(parents)\n",
    "    childrens = np.empty((len(parents),parents.shape[1]))\n",
    "    crossover_point = np.uint8(parents.shape[0]/2)\n",
    "    print(crossover_point)\n",
    "    for k in range(len(parents)):\n",
    "        # Índice del primer padre para realizar la cruza\n",
    "        parent1_idx = k%parents.shape[0]\n",
    "        # Índice del segundo padre para realizar la cruza\n",
    "        parent2_idx = (k+1)%parents.shape[0]\n",
    "        # Generar el primer hijo con la primer mitad de un padre y la segunda de otro\n",
    "        childrens[k, 0:crossover_point] = parents[parent1_idx, 0:crossover_point]\n",
    "        # Generar el segundo hijo con las partes opuestas\n",
    "        childrens[k, crossover_point:] = parents[parent2_idx, crossover_point:]\n",
    "    #Devolver lista de hijos\n",
    "    return childrens"
   ]
  },
  {
   "cell_type": "markdown",
   "metadata": {},
   "source": [
    "## Mutación"
   ]
  },
  {
   "cell_type": "code",
   "execution_count": 5,
   "metadata": {},
   "outputs": [],
   "source": [
    "def mutation(childrens):\n",
    "    for i, children in enumerate(childrens):\n",
    "        random_index = random.choice(range(4))\n",
    "        childrens[i][random_index] = round(random.uniform(0,63), 2)\n",
    "    return childrens"
   ]
  },
  {
   "cell_type": "markdown",
   "metadata": {},
   "source": [
    "# Algoritmo"
   ]
  },
  {
   "cell_type": "code",
   "execution_count": 6,
   "metadata": {},
   "outputs": [
    {
     "name": "stdout",
     "output_type": "stream",
     "text": [
      "Población incial\n",
      "[[-7400.67894412 -6913.64271401 -5758.82640777  5490.81632017]\n",
      " [ 2572.29013407  6963.98286536  4088.05845047   968.37914646]\n",
      " [ 4620.62084297  -615.66420696  -299.61858222 -2763.76583165]\n",
      " [ 1517.0949526   -800.05252666  4675.29957227 -1688.24269043]\n",
      " [-4541.59482855  1901.57057713 -6392.54562391 -3252.55497635]\n",
      " [ 1595.40116277 -5298.02100725  5554.85577468 -9134.05569636]\n",
      " [ 4510.06626738  9241.72001587 -2858.1900664   6380.02869179]\n",
      " [ 8155.90988503  8862.89187156  4055.93447073  6589.25745498]\n",
      " [ 2190.83794551  -997.99408228 -5236.43223791  -650.9399592 ]\n",
      " [-3057.56780276 -9517.44472855  9260.32505952  4825.3031159 ]]\n"
     ]
    }
   ],
   "source": [
    "#Cantidad de genes\n",
    "num_genes = 4\n",
    "#Soluciones por población\n",
    "sol_per_pop = 10\n",
    "#Número de padres para cruza\n",
    "num_parents_mating = 2\n",
    "#Tamaño de la población\n",
    "pop_size = (sol_per_pop,num_genes) \n",
    "#Crear pobliación inicial con valores aleatorios\n",
    "new_population = numpy.random.uniform(low=-10000.0, high=10000.0, size=pop_size)\n",
    "print(\"Población incial\")\n",
    "print(new_population)\n",
    "#Cantidad de generaciones a realizar\n",
    "num_generations = 200"
   ]
  },
  {
   "cell_type": "code",
   "execution_count": 8,
   "metadata": {},
   "outputs": [
    {
     "ename": "NameError",
     "evalue": "name 'select_mating_pool' is not defined",
     "output_type": "error",
     "traceback": [
      "\u001b[0;31m---------------------------------------------------------------------------\u001b[0m",
      "\u001b[0;31mNameError\u001b[0m                                 Traceback (most recent call last)",
      "\u001b[0;32m/tmp/ipykernel_53275/4220409021.py\u001b[0m in \u001b[0;36m<module>\u001b[0;34m\u001b[0m\n\u001b[1;32m      5\u001b[0m     \u001b[0mfitness\u001b[0m \u001b[0;34m=\u001b[0m \u001b[0mobtener_val_adaptacion\u001b[0m\u001b[0;34m(\u001b[0m\u001b[0mnew_population\u001b[0m\u001b[0;34m)\u001b[0m\u001b[0;34m\u001b[0m\u001b[0;34m\u001b[0m\u001b[0m\n\u001b[1;32m      6\u001b[0m     \u001b[0;31m# Selección\u001b[0m\u001b[0;34m\u001b[0m\u001b[0;34m\u001b[0m\u001b[0;34m\u001b[0m\u001b[0m\n\u001b[0;32m----> 7\u001b[0;31m     parents = select_mating_pool(new_population, fitness, \n\u001b[0m\u001b[1;32m      8\u001b[0m                                       num_parents_mating)\n\u001b[1;32m      9\u001b[0m     \u001b[0;31m# Cruza\u001b[0m\u001b[0;34m\u001b[0m\u001b[0;34m\u001b[0m\u001b[0;34m\u001b[0m\u001b[0m\n",
      "\u001b[0;31mNameError\u001b[0m: name 'select_mating_pool' is not defined"
     ]
    }
   ],
   "source": [
    "gen = []\n",
    "fit = []\n",
    "for generation in range(num_generations):\n",
    "    # Obtener valores de adaptación de la población\n",
    "    fitness = obtener_val_adaptacion(new_population)\n",
    "    # Selección\n",
    "    parents = select_mating_pool(new_population, fitness, num_parents_mating)\n",
    "    # Cruza\n",
    "    offspring_crossover = crossover(parents,\n",
    "                                       offspring_size=(pop_size[0]-parents.shape[0]))\n",
    "\n",
    "    # Mutación\n",
    "    offspring_mutation = mutation(offspring_crossover)\n",
    "\n",
    "    # Crear nueva población basada en los padres y los hijos\n",
    "    new_population[0:parents.shape[0], :] = parents\n",
    "    new_population[parents.shape[0]:, :] = offspring_mutation\n",
    "       \n",
    "\n",
    "    # Obtener mejor resultado para la generación\n",
    "    fit.append(numpy.max(cal_pop_fitness(new_population)))\n",
    "    gen.append(generation)\n",
    "    \n",
    "\n",
    "#Obtener la mejor solución\n",
    "fitness = cal_pop_fitness(new_population)\n",
    "best_match_idx = numpy.where(fitness == numpy.max(fitness))\n",
    "print(\"Mejor resultado : \", new_population[best_match_idx, :])\n",
    "print(\"Adaptación del mejor resultado : \", fitness[best_match_idx[0][0]])\n"
   ]
  },
  {
   "cell_type": "code",
   "execution_count": null,
   "metadata": {},
   "outputs": [],
   "source": [
    "\n",
    "#Gráfico\n",
    "fig, ax = plt.subplots()\n",
    "ax.plot(gen, fit, 'b')\n",
    "ax.set_ylabel('Fitness')\n",
    "ax.set_xlabel('Generation')\n",
    "plt.show()"
   ]
  }
 ],
 "metadata": {
  "kernelspec": {
   "display_name": "Python 3 (ipykernel)",
   "language": "python",
   "name": "python3"
  },
  "language_info": {
   "codemirror_mode": {
    "name": "ipython",
    "version": 3
   },
   "file_extension": ".py",
   "mimetype": "text/x-python",
   "name": "python",
   "nbconvert_exporter": "python",
   "pygments_lexer": "ipython3",
   "version": "3.7.11"
  }
 },
 "nbformat": 4,
 "nbformat_minor": 4
}
