{
 "cells": [
  {
   "cell_type": "markdown",
   "metadata": {},
   "source": [
    "## Diseño aerodinámico\n",
    "\n",
    "Existen cuatro variables que representan valores de parámetros para el diseño de el ala de una aeronave. Cada uno de estos parámetros puede tomar un valor entre 0 y 63.\n",
    "\n",
    "El modelo aerodinámico dice que la elevación del ala está dada por la formula:\n",
    "\n",
    "Elevación = (A - B)² + (C - D)² - (A-30)³ - (C-40)³\n",
    "\n",
    "Encontrar los valores de parámetros que maximicen la elevación del ala."
   ]
  },
  {
   "cell_type": "code",
   "execution_count": 1,
   "metadata": {},
   "outputs": [],
   "source": [
    "import numpy as np\n",
    "import random\n",
    "import matplotlib\n",
    "import matplotlib.pyplot as plt"
   ]
  },
  {
   "cell_type": "markdown",
   "metadata": {},
   "source": [
    "## Codificación\n",
    "\n",
    "- Definir como se codificará el problema\n",
    "\n",
    "Para este problema el cromosoma estará compuesto por 4 genes cada uno de ellos representará un parámetro\n",
    "\n",
    "[A B C D]"
   ]
  },
  {
   "cell_type": "markdown",
   "metadata": {},
   "source": [
    "## Adaptación\n",
    "\n",
    "- Definir como se calculará la adaptación de un individuo\n",
    "- ¿Existen estados que deben ser penalizados?\n",
    "\n",
    "Se calculará el valor de la elevacion en base a los individuos de la poblacion y luego se penalizan o no en base al valor de elevación obtenido por medio de la selección por ranking.\n"
   ]
  },
  {
   "cell_type": "code",
   "execution_count": 2,
   "metadata": {},
   "outputs": [],
   "source": [
    "def funcion_adaptacion(poblacion):\n",
    "    adaptacion = []\n",
    "    for ind in poblacion:\n",
    "        adaptacion.append(\n",
    "            ((ind[0] - ind[1]) ** 2) +\n",
    "            ((ind[2] - ind[3]) ** 2) -\n",
    "            ((ind[0] - 30) ** 3) -\n",
    "            ((ind[2] - 40) ** 3)\n",
    "        )\n",
    "    return adaptacion         # Devolvemos el valor numerico del individuo en la funcion"
   ]
  },
  {
   "cell_type": "markdown",
   "metadata": {},
   "source": [
    "## Selección\n",
    "\n",
    " Ordena los valores de adaptación basándose en el valor que se obtuvo en la función de elevación. Ordena los valores con números enteros. \n",
    " \n",
    " Calculamos la probabilidad que tiene cada individuo, basandonos en la \"SELECCION BASADA EN RANKING\".\n",
    " \n",
    " Seleccionamos el/los padres para la cruza de la próxima generación, basándonos en la probabilidad de cada individuo."
   ]
  },
  {
   "cell_type": "code",
   "execution_count": 3,
   "metadata": {},
   "outputs": [],
   "source": [
    "def rank(adaptacion,poblacion):\n",
    "    matriz_adaptacion = np.array(adaptacion)\n",
    "    index = matriz_adaptacion.argsort()\n",
    "    return (np.arange(len(matriz_adaptacion))[index.argsort()]).tolist()\n",
    " \n",
    "\n",
    "def probabilidad_ranking(poblacion, adaptacion):\n",
    "    probabilidad = []\n",
    "    ranking = rank(adaptacion, poblacion)\n",
    "    for i in range(len(poblacion)):\n",
    "        probabilidad.append(\n",
    "            ((ranking[i]) / sum(ranking))\n",
    "        )\n",
    "    return probabilidad\n",
    " \n",
    "\n",
    "def seleccionar_padres(poblacion, adaptacion, cantidad_padres):\n",
    "    \n",
    "    tam_poblacion = len(poblacion)\n",
    "    probabilidad = probabilidad_ranking(poblacion, adaptacion)        \n",
    "    \n",
    "    rango = range(tam_poblacion)\n",
    "    indices = np.random.choice(rango,size=cantidad_padres, replace=False, p=probabilidad)\n",
    "    \n",
    "    \n",
    "    padres = [poblacion[i] for i in indices]\n",
    "    return np.array(padres)      # Devolvemos los padres en forma de array de numpy\n"
   ]
  },
  {
   "cell_type": "markdown",
   "metadata": {},
   "source": [
    "## Cruza"
   ]
  },
  {
   "cell_type": "code",
   "execution_count": 4,
   "metadata": {},
   "outputs": [],
   "source": [
    "def cruzamiento(padres, tam_descendencia):\n",
    "    \n",
    "    hijos = np.empty((tam_descendencia, padres.shape[1]))\n",
    "    punto_cruza = np.uint8(padres.shape[0] / 2)\n",
    "    \n",
    "    for k in range(tam_descendencia):\n",
    "\n",
    "        # Indices padres\n",
    "        idx_p1 = k % padres.shape[0]\n",
    "        idx_p2 = (k + 1) % padres.shape[0]\n",
    "        \n",
    "        # Generamos el hijo con la primer mitad de un padre y la segunda del otro\n",
    "        hijos[k, 0:punto_cruza] = padres[idx_p1, 0:punto_cruza]\n",
    "        hijos[k, punto_cruza:] = padres[idx_p2, punto_cruza:]\n",
    "\n",
    "    return hijos        # Devolvemos el array de hijos dados los padres"
   ]
  },
  {
   "cell_type": "markdown",
   "metadata": {},
   "source": [
    "## Mutación\n",
    "\n",
    "Para cada individuo resultante del array hijos, vamos a cambiar un solo gen, por medio de la <strong>mutación por límite</strong>."
   ]
  },
  {
   "cell_type": "code",
   "execution_count": 5,
   "metadata": {},
   "outputs": [],
   "source": [
    "def mutacion(hijos):\n",
    "    for indice in range(hijos.shape[0]):\n",
    "        valor_aleatorio = np.random.uniform(-500, 500)\n",
    "        # Sumar el valor aleatorio a uno de los genes\n",
    "        hijos[indice, np.random.randint(low=0, high=(hijos.shape[1]-1))] = hijos[indice, hijos.shape[1]-1] + valor_aleatorio\n",
    "    \n",
    "    return hijos         # Devuelve el array de hijos mutados"
   ]
  },
  {
   "cell_type": "markdown",
   "metadata": {},
   "source": [
    "# Algoritmo"
   ]
  },
  {
   "cell_type": "code",
   "execution_count": 6,
   "metadata": {},
   "outputs": [
    {
     "name": "stdout",
     "output_type": "stream",
     "text": [
      "Mejor resultado :  [[[-491.40822479  349.24551228 -493.36602686    6.63      ]]]\n",
      "Adaptación del mejor resultado :  294441747.00090295\n"
     ]
    }
   ],
   "source": [
    "poblacion = []\n",
    "cant_genes = 4\n",
    "cant_individuos = 10000\n",
    "cant_generaciones = 100\n",
    "cantidad_padres = 50\n",
    "\n",
    "for i in range (cant_individuos):\n",
    "    \n",
    "    individuo = []\n",
    "    for j in range(cant_genes):\n",
    "        individuo.append(round(random.uniform(0, 63),2))\n",
    "\n",
    "    poblacion.append(individuo)\n",
    "\n",
    "# Ejes del gráfico\n",
    "eje_gen = []\n",
    "eje_adap = []\n",
    "\n",
    "for generacion in range(cant_generaciones):\n",
    "    \n",
    "    poblacion = np.array(poblacion)\n",
    "    \n",
    "    adaptacion = funcion_adaptacion(poblacion)\n",
    "    #print(\"adaptacion\", adaptacion)\n",
    "      \n",
    "    padres = seleccionar_padres(poblacion, adaptacion, cantidad_padres)\n",
    "    #print(\"padres\", padres)\n",
    "    \n",
    "    tam_descendencia = len(poblacion) - padres.shape[0]\n",
    "    \n",
    "    hijos = cruzamiento(padres, tam_descendencia)\n",
    "    \n",
    "    hijos_mutados = mutacion(hijos)\n",
    "    \n",
    "    # Creamos una nueva poblacion a partir de los padres y de los hijos    \n",
    "    poblacion[0:padres.shape[0], :] = padres\n",
    "    poblacion[padres.shape[0]:, :] = hijos_mutados\n",
    "    \n",
    "    eje_adap.append(max(adaptacion))\n",
    "    eje_gen.append(generacion)\n",
    "\n",
    "# Obtener la mejor solución\n",
    "adaptacion = funcion_adaptacion(poblacion)\n",
    "mejor_adap_index = np.where(adaptacion == np.max(adaptacion))\n",
    "\n",
    "print(\"Mejor resultado : \", poblacion[mejor_adap_index, :])\n",
    "print(\"Adaptación del mejor resultado : \", adaptacion[mejor_adap_index[0][0]])"
   ]
  },
  {
   "cell_type": "markdown",
   "metadata": {},
   "source": [
    "## Gráfico de adaptacion según las generaciones"
   ]
  },
  {
   "cell_type": "code",
   "execution_count": 8,
   "metadata": {},
   "outputs": [
    {
     "data": {
      "image/png": "[encoded data removed]",
      "text/plain": [
       "<Figure size 432x288 with 1 Axes>"
      ]
     },
     "metadata": {
      "needs_background": "light"
     },
     "output_type": "display_data"
    }
   ],
   "source": [
    "fig, ax = plt.subplots()\n",
    "ax.plot(eje_gen, eje_adap, 'b')\n",
    "ax.set_ylabel('Fitness')\n",
    "ax.set_xlabel('Generation')\n",
    "plt.show()"
   ]
  }
 ],
 "metadata": {
  "kernelspec": {
   "display_name": "Python 3 (ipykernel)",
   "language": "python",
   "name": "python3"
  },
  "language_info": {
   "codemirror_mode": {
    "name": "ipython",
    "version": 3
   },
   "file_extension": ".py",
   "mimetype": "text/x-python",
   "name": "python",
   "nbconvert_exporter": "python",
   "pygments_lexer": "ipython3",
   "version": "3.7.11"
  }
 },
 "nbformat": 4,
 "nbformat_minor": 4
}
